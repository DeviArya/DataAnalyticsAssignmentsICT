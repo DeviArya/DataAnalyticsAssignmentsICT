{
  "nbformat": 4,
  "nbformat_minor": 0,
  "metadata": {
    "colab": {
      "private_outputs": true,
      "provenance": []
    },
    "kernelspec": {
      "name": "python3",
      "display_name": "Python 3"
    },
    "language_info": {
      "name": "python"
    }
  },
  "cells": [
    {
      "cell_type": "code",
      "execution_count": null,
      "metadata": {
        "id": "EQ_xKq407qYn"
      },
      "outputs": [],
      "source": [
        "#all imports\n",
        "\n",
        "import numpy as np\n",
        "import pandas as pd\n",
        "import matplotlib.pyplot as plt \n",
        "import seaborn as sns\n",
        "%matplotlib inline\n",
        "\n",
        "from sklearn.model_selection import train_test_split\n",
        "from sklearn import feature_selection\n",
        "from sklearn import model_selection\n",
        "from sklearn.metrics import accuracy_score\n",
        "from sklearn.linear_model import LogisticRegression\n",
        "from sklearn.svm import SVC\n",
        "from sklearn.naive_bayes import GaussianNB\n",
        "from sklearn.ensemble import RandomForestClassifier,GradientBoostingClassifier\n",
        "from sklearn.neighbors import KNeighborsClassifier"
      ]
    },
    {
      "cell_type": "code",
      "source": [
        "#mounting drive\n",
        "from google.colab import drive\n",
        "drive.mount('/content/drive')"
      ],
      "metadata": {
        "id": "WKKYNYme9Cq9"
      },
      "execution_count": null,
      "outputs": []
    },
    {
      "cell_type": "code",
      "source": [
        "#uploading file to drive\n",
        "from google.colab import files\n",
        "uploaded = files.upload()"
      ],
      "metadata": {
        "id": "X-WtXAGmBbpr"
      },
      "execution_count": null,
      "outputs": []
    },
    {
      "cell_type": "code",
      "source": [
        "# reading file from drive\n",
        "df=pd.read_csv(\"/content/data_car.csv\")"
      ],
      "metadata": {
        "id": "ZTRgd78cDSQ1"
      },
      "execution_count": null,
      "outputs": []
    },
    {
      "cell_type": "code",
      "source": [
        "#reading first five rows\n",
        "df.head()"
      ],
      "metadata": {
        "id": "gmiHnXqWD1MN"
      },
      "execution_count": null,
      "outputs": []
    },
    {
      "cell_type": "code",
      "source": [
        "#reading first five rows\n",
        "df.tail()"
      ],
      "metadata": {
        "id": "56beIO3AEKwe"
      },
      "execution_count": null,
      "outputs": []
    },
    {
      "cell_type": "markdown",
      "source": [
        "**Data Cleaning and Preparation**"
      ],
      "metadata": {
        "id": "VPU1raxcJ-56"
      }
    },
    {
      "cell_type": "code",
      "source": [
        "#info\n",
        "df.info()"
      ],
      "metadata": {
        "id": "huLhLsVPEQK5"
      },
      "execution_count": null,
      "outputs": []
    },
    {
      "cell_type": "code",
      "source": [
        "df.shape"
      ],
      "metadata": {
        "id": "LilCYeP6H2SX"
      },
      "execution_count": null,
      "outputs": []
    },
    {
      "cell_type": "code",
      "source": [
        "df.isna().sum()"
      ],
      "metadata": {
        "id": "HDbMT0l8IBLe"
      },
      "execution_count": null,
      "outputs": []
    },
    {
      "cell_type": "code",
      "source": [
        "df=df.dropna()"
      ],
      "metadata": {
        "id": "P2ogBVfPIX7j"
      },
      "execution_count": null,
      "outputs": []
    },
    {
      "cell_type": "code",
      "source": [
        "df.info()"
      ],
      "metadata": {
        "id": "cQ5HwvdZJU10"
      },
      "execution_count": null,
      "outputs": []
    },
    {
      "cell_type": "code",
      "source": [
        "#printing all column name\n",
        "df.columns"
      ],
      "metadata": {
        "id": "eQUsgq3QEUb3"
      },
      "execution_count": null,
      "outputs": []
    },
    {
      "cell_type": "code",
      "source": [
        "#describe\n",
        "df.describe()"
      ],
      "metadata": {
        "id": "wlIzO9UbE1Va"
      },
      "execution_count": null,
      "outputs": []
    },
    {
      "cell_type": "markdown",
      "source": [
        " 0   Make/brand\n",
        " 1   Model/model            \n",
        " 2   Year/ launch year                 \n",
        " 3   Engine Fuel Type/Engine Fuel Type  \n",
        " 4   Engine HP/ Engine HP         \n",
        " 5   Engine Cylinders/no. of engine cylenders    \n",
        " 6   Transmission Type/ transmission type   \n",
        " 7   Driven_Wheels /  Driven_Wheels   \n",
        " 8   Number of Doors / Number of Doors    \n",
        " 9   Market Category / Market Category    \n",
        " 10  Vehicle Size  / vehicle size     \n",
        " 11  Vehicle Style /style     \n",
        " 12  highway MPG / mpg      \n",
        " 13  city mpg /city mpg         \n",
        " 14  Popularity / popularity         \n",
        " 15  MSRP /msrp"
      ],
      "metadata": {
        "id": "nxO6G5gyFVgN"
      }
    },
    {
      "cell_type": "code",
      "source": [
        "df.Make.unique()"
      ],
      "metadata": {
        "id": "ZGqQUagYFCjZ"
      },
      "execution_count": null,
      "outputs": []
    },
    {
      "cell_type": "markdown",
      "source": [
        "**Visualizing the data**"
      ],
      "metadata": {
        "id": "DXDJnpSTKu4J"
      }
    },
    {
      "cell_type": "markdown",
      "source": [
        "*Univeriate variable Analysis*\n",
        "\n",
        "categorical veriables : ['Make', 'Model', 'Year', 'Engine Fuel Type',\n",
        "       'Transmission Type', 'Driven_Wheels',\n",
        "        'Market Category', 'Vehicle Size', 'Vehicle Style',\n",
        "       ]\n",
        "\n",
        "numerical veriables : ['Engine HP',  'Engine Cylinders', 'Number of Doors', 'highway MPG', 'city mpg', 'Popularity', 'MSRP']"
      ],
      "metadata": {
        "id": "TFbvWhrXK2mS"
      }
    },
    {
      "cell_type": "markdown",
      "source": [
        "**Categorical Veriable**"
      ],
      "metadata": {
        "id": "9ZAchXFMNkYV"
      }
    },
    {
      "cell_type": "code",
      "source": [
        "#visualization libraries\n",
        "import matplotlib.pyplot as plt\n",
        "import seaborn as sns\n",
        "import random"
      ],
      "metadata": {
        "id": "o-zm9LQEKlms"
      },
      "execution_count": null,
      "outputs": []
    },
    {
      "cell_type": "code",
      "source": [
        "\n",
        "def draw_histograms(df, variables, n_rows, n_cols):\n",
        "    fig=plt.figure()\n",
        "    for i, var_name in enumerate(variables):\n",
        "        ax=fig.add_subplot(n_rows,n_cols,i+1)\n",
        "        df[var_name].hist(bins=10,ax=ax,color='#cd1075',edgecolor='black',linewidth=1.2)\n",
        "        ax.set_title(var_name+\" Distribution\")\n",
        "    fig.tight_layout()  # Improves appearance a bit.\n",
        "    plt.show()\n",
        "\n",
        "test = df[['Make', 'Model']]\n",
        "draw_histograms(test, test.columns, 2, 1)"
      ],
      "metadata": {
        "id": "2MmSjOeHOrt1"
      },
      "execution_count": null,
      "outputs": []
    },
    {
      "cell_type": "code",
      "source": [
        "def bar_plot (variable):\n",
        "  var=df[variable]\n",
        "  varValue = var.value_counts()\n",
        "  plt.figure(figsize=(15,3))\n",
        "  plt.bar(varValue.index,varValue)\n",
        "  plt.xticks(varValue.index, varValue.index.values)\n",
        "  #plt.ylebel(\"Frequency\")\n",
        "  plt.title(variable)\n",
        "\n",
        "  plt.show()\n",
        "  print(\"{}: \\n {}\".format(variable, varValue))"
      ],
      "metadata": {
        "id": "V7gETU89P7AY"
      },
      "execution_count": null,
      "outputs": []
    },
    {
      "cell_type": "code",
      "source": [
        "categoric= ['Make', 'Model', 'Year', 'Engine Fuel Type', 'Transmission Type', 'Driven_Wheels', 'Market Category', 'Vehicle Size', 'Vehicle Style' ]\n",
        "for c in categoric:\n",
        "  bar_plot(c)"
      ],
      "metadata": {
        "id": "-Utm1FgtRddF"
      },
      "execution_count": null,
      "outputs": []
    },
    {
      "cell_type": "markdown",
      "source": [
        "#numerical variable"
      ],
      "metadata": {
        "id": "utVOfwC-SeGK"
      }
    },
    {
      "cell_type": "code",
      "source": [
        "def plot_hist(variable):\n",
        " plt.figure(figsize=(9,6))\n",
        " plt.hist(df[variable], bins=40,color='#cd1076')\n",
        " plt.xlabel(variable)\n",
        " plt.ylabel(\"frequency\")\n",
        " plt.title(\"{} distrubition with hist\".format(variable))\n",
        " plt.show()"
      ],
      "metadata": {
        "id": "nyK_yaOJSam2"
      },
      "execution_count": null,
      "outputs": []
    },
    {
      "cell_type": "code",
      "source": [
        "numericVar = ['Engine HP', 'Engine Cylinders', 'Number of Doors', 'highway MPG', 'city mpg', 'Popularity', 'MSRP']\n",
        "for n in numericVar:\n",
        " plot_hist(n)"
      ],
      "metadata": {
        "id": "rxZyYf95S_oR"
      },
      "execution_count": null,
      "outputs": []
    },
    {
      "cell_type": "code",
      "source": [
        "pd.crosstab(df.Popularity,df.Make).plot(kind=\"area\",figsize=(15,7))\n",
        "plt.title('Distribution')\n",
        "plt.xlabel('Popularity')\n",
        "plt.ylabel('Frequency')\n",
        "plt.show()"
      ],
      "metadata": {
        "id": "cA0_cRbXTbcx"
      },
      "execution_count": null,
      "outputs": []
    },
    {
      "cell_type": "markdown",
      "source": [
        "**Outlier Detection**"
      ],
      "metadata": {
        "id": "x9SgEupVU5A1"
      }
    },
    {
      "cell_type": "code",
      "source": [
        "\n",
        "from collections import Counter\n",
        "def detect_outliers(data,features):\n",
        "  outlier_indices = []\n",
        "  for c in features:\n",
        "  # 1st quartile\n",
        "    Q1 = np.percentile(data[c],25)\n",
        "  # 3rd quartile\n",
        "    Q3 = np.percentile(data[c],75)\n",
        "  # IQR\n",
        "    IQR = Q3 - Q1\n",
        "  # Outlier step\n",
        "    outlier_step = IQR * 1.5\n",
        "  # detect outlier and their indeces\n",
        "    outlier_list_col = df[(df[c] < Q1 - outlier_step) | (df[c] > Q3 + outlier_step )].index\n",
        "  # store indeces\n",
        "    outlier_indices.extend(outlier_list_col)\n",
        "\n",
        "    outlier_indices = Counter(outlier_indices)\n",
        "                \n",
        "    multiple_outliers = list( k for k, v in outlier_indices.items())\n",
        "  return multiple_outliers  \n",
        "    "
      ],
      "metadata": {
        "id": "_RjopD00U4tR"
      },
      "execution_count": null,
      "outputs": []
    },
    {
      "cell_type": "code",
      "source": [
        "df.isnull().sum()"
      ],
      "metadata": {
        "id": "U_zXbF_jaZWu"
      },
      "execution_count": null,
      "outputs": []
    },
    {
      "cell_type": "code",
      "source": [
        "import seaborn as sns\n",
        "fig, ax = plt.subplots(figsize=(13,13)) \n",
        "sns.heatmap(df.corr(), annot=True, linewidths=.5, ax=ax)"
      ],
      "metadata": {
        "id": "jzLS5TP6cNsH"
      },
      "execution_count": null,
      "outputs": []
    }
  ]
}