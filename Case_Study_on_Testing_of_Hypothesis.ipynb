{
  "nbformat": 4,
  "nbformat_minor": 0,
  "metadata": {
    "colab": {
      "private_outputs": true,
      "provenance": [],
      "authorship_tag": "ABX9TyO2L6Z3BBX26zN1zkdu4r5N",
      "include_colab_link": true
    },
    "kernelspec": {
      "name": "python3",
      "display_name": "Python 3"
    },
    "language_info": {
      "name": "python"
    }
  },
  "cells": [
    {
      "cell_type": "markdown",
      "metadata": {
        "id": "view-in-github",
        "colab_type": "text"
      },
      "source": [
        "<a href=\"https://colab.research.google.com/github/DeviArya/DataAnalyticsAssignmentsICT/blob/main/Case_Study_on_Testing_of_Hypothesis.ipynb\" target=\"_parent\"><img src=\"https://colab.research.google.com/assets/colab-badge.svg\" alt=\"Open In Colab\"/></a>"
      ]
    },
    {
      "cell_type": "code",
      "execution_count": null,
      "metadata": {
        "id": "b1s_51amc6P3"
      },
      "outputs": [],
      "source": [
        "import pandas as pd\n",
        "import numpy as np\n",
        "import matplotlib.pyplot as plt\n",
        "import seaborn as sns\n",
        "import statistics as stat\n",
        "from statsmodels.stats.weightstats import ztest\n",
        "from scipy.stats  import ttest_1samp\n",
        "from scipy.stats  import ttest_ind\n",
        "from scipy.stats  import chisquare\n",
        "from scipy.stats  import chi2_contingency"
      ]
    },
    {
      "cell_type": "code",
      "source": [
        "df=pd.read_csv('/content/Sales_add.csv')\n",
        "df.head()"
      ],
      "metadata": {
        "id": "33rGRYW3exbM"
      },
      "execution_count": null,
      "outputs": []
    },
    {
      "cell_type": "code",
      "source": [
        "df.info()"
      ],
      "metadata": {
        "id": "pJO1aOzvgUd2"
      },
      "execution_count": null,
      "outputs": []
    },
    {
      "cell_type": "code",
      "source": [
        "df.describe()"
      ],
      "metadata": {
        "id": "gitBcCAVgIir"
      },
      "execution_count": null,
      "outputs": []
    },
    {
      "cell_type": "code",
      "source": [
        "df.isnull().sum()\n"
      ],
      "metadata": {
        "id": "QrO2GqN0mMvz"
      },
      "execution_count": null,
      "outputs": []
    },
    {
      "cell_type": "code",
      "source": [
        "zstat1,p_val1=ztest(df[\"Sales_before_digital_add(in $)\"],df['Sales_After_digital_add(in $)'],value=0)\n",
        "p_val1"
      ],
      "metadata": {
        "id": "GETndGB_aLZ7"
      },
      "execution_count": null,
      "outputs": []
    },
    {
      "cell_type": "code",
      "source": [
        "if p_val1<.05:\n",
        "    print('null hypothes is rejected')\n",
        "else:\n",
        "    print('null hypothesis is accepted ')"
      ],
      "metadata": {
        "id": "qHt_ic7iaV5X"
      },
      "execution_count": null,
      "outputs": []
    },
    {
      "cell_type": "code",
      "source": [
        "chistat1,p_val2,dof,exp=chi2_contingency(pd.crosstab(df['Manager'],df['Region']))\n",
        "p_val2"
      ],
      "metadata": {
        "id": "MYI18AOpaaZR"
      },
      "execution_count": null,
      "outputs": []
    },
    {
      "cell_type": "code",
      "source": [
        "if p_val2<.05:\n",
        "    print('null hypothes is rejected')\n",
        "else:\n",
        "    print('null hypothesis is accepted ')"
      ],
      "metadata": {
        "id": "oHVeyzasamaP"
      },
      "execution_count": null,
      "outputs": []
    },
    {
      "cell_type": "code",
      "source": [
        "help(chi2_contingency)"
      ],
      "metadata": {
        "id": "29dwtyFkarWU"
      },
      "execution_count": null,
      "outputs": []
    }
  ]
}