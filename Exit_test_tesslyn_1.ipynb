{
  "cells": [
    {
      "cell_type": "code",
      "execution_count": null,
      "id": "428ebf5c",
      "metadata": {
        "id": "428ebf5c"
      },
      "outputs": [],
      "source": [
        "import numpy as np\n",
        "import pandas as pd\n",
        "import matplotlib.pyplot as plt \n",
        "import seaborn as sns"
      ]
    },
    {
      "cell_type": "code",
      "execution_count": null,
      "id": "5337cc01",
      "metadata": {
        "id": "5337cc01"
      },
      "outputs": [],
      "source": [
        "df=pd.read_csv(r\"C:\\Users\\tessl\\Downloads\\5e1ce352c93c11ed\\dataset\\train.csv\")"
      ]
    },
    {
      "cell_type": "code",
      "execution_count": null,
      "id": "e88205b3",
      "metadata": {
        "colab": {
          "base_uri": "https://localhost:8080/",
          "height": 165
        },
        "id": "e88205b3",
        "outputId": "8c85ad0f-9c3b-4dfd-fc46-dbe9ed9237c6"
      },
      "outputs": [
        {
          "output_type": "error",
          "ename": "NameError",
          "evalue": "ignored",
          "traceback": [
            "\u001b[0;31m---------------------------------------------------------------------------\u001b[0m",
            "\u001b[0;31mNameError\u001b[0m                                 Traceback (most recent call last)",
            "\u001b[0;32m<ipython-input-2-335376182659>\u001b[0m in \u001b[0;36m<cell line: 1>\u001b[0;34m()\u001b[0m\n\u001b[0;32m----> 1\u001b[0;31m \u001b[0mdf1\u001b[0m\u001b[0;34m=\u001b[0m\u001b[0mpd\u001b[0m\u001b[0;34m.\u001b[0m\u001b[0mread_csv\u001b[0m\u001b[0;34m(\u001b[0m\u001b[0;34mr\"C:\\Users\\tessl\\Downloads\\5e1ce352c93c11ed\\dataset\\test.csv\"\u001b[0m\u001b[0;34m)\u001b[0m\u001b[0;34m\u001b[0m\u001b[0;34m\u001b[0m\u001b[0m\n\u001b[0m",
            "\u001b[0;31mNameError\u001b[0m: name 'pd' is not defined"
          ]
        }
      ],
      "source": [
        "df1=pd.read_csv(r\"C:\\Users\\tessl\\Downloads\\5e1ce352c93c11ed\\dataset\\test.csv\")"
      ]
    },
    {
      "cell_type": "code",
      "execution_count": null,
      "id": "bae5b94d",
      "metadata": {
        "id": "bae5b94d",
        "outputId": "d8854f70-d0a1-40e4-cb43-c3bcc88d8bb5"
      },
      "outputs": [
        {
          "data": {
            "text/html": [
              "<div>\n",
              "<style scoped>\n",
              "    .dataframe tbody tr th:only-of-type {\n",
              "        vertical-align: middle;\n",
              "    }\n",
              "\n",
              "    .dataframe tbody tr th {\n",
              "        vertical-align: top;\n",
              "    }\n",
              "\n",
              "    .dataframe thead th {\n",
              "        text-align: right;\n",
              "    }\n",
              "</style>\n",
              "<table border=\"1\" class=\"dataframe\">\n",
              "  <thead>\n",
              "    <tr style=\"text-align: right;\">\n",
              "      <th></th>\n",
              "      <th>CustomerID</th>\n",
              "      <th>Age</th>\n",
              "      <th>Gender</th>\n",
              "      <th>City</th>\n",
              "      <th>is_Married</th>\n",
              "      <th>family_size</th>\n",
              "      <th>height</th>\n",
              "      <th>annual_income</th>\n",
              "      <th>job</th>\n",
              "      <th>is_physically_ok</th>\n",
              "      <th>has_taken_car_loan</th>\n",
              "      <th>preferable_fuel_choice</th>\n",
              "      <th>vehicle_choice</th>\n",
              "    </tr>\n",
              "  </thead>\n",
              "  <tbody>\n",
              "    <tr>\n",
              "      <th>0</th>\n",
              "      <td>CusID_00000</td>\n",
              "      <td>36.0</td>\n",
              "      <td>Male</td>\n",
              "      <td>New York City</td>\n",
              "      <td>Divorced</td>\n",
              "      <td>2.0</td>\n",
              "      <td>160.0</td>\n",
              "      <td>32200.0</td>\n",
              "      <td>Service</td>\n",
              "      <td>Yes</td>\n",
              "      <td>Yes</td>\n",
              "      <td>Hybrid</td>\n",
              "      <td>Sedan</td>\n",
              "    </tr>\n",
              "    <tr>\n",
              "      <th>1</th>\n",
              "      <td>CusID_00001</td>\n",
              "      <td>15.0</td>\n",
              "      <td>Female</td>\n",
              "      <td>New York City</td>\n",
              "      <td>Single</td>\n",
              "      <td>1.0</td>\n",
              "      <td>143.0</td>\n",
              "      <td>9000.0</td>\n",
              "      <td>Service</td>\n",
              "      <td>Yes</td>\n",
              "      <td>Yes</td>\n",
              "      <td>Petrol</td>\n",
              "      <td>Compact Utility Vehicle</td>\n",
              "    </tr>\n",
              "    <tr>\n",
              "      <th>2</th>\n",
              "      <td>CusID_00002</td>\n",
              "      <td>55.0</td>\n",
              "      <td>Male</td>\n",
              "      <td>Paris</td>\n",
              "      <td>Married</td>\n",
              "      <td>2.0</td>\n",
              "      <td>168.0</td>\n",
              "      <td>152400.0</td>\n",
              "      <td>Service</td>\n",
              "      <td>Yes</td>\n",
              "      <td>No</td>\n",
              "      <td>Petrol</td>\n",
              "      <td>Sports Sedan</td>\n",
              "    </tr>\n",
              "    <tr>\n",
              "      <th>3</th>\n",
              "      <td>CusID_00003</td>\n",
              "      <td>23.0</td>\n",
              "      <td>Male</td>\n",
              "      <td>Vancouver</td>\n",
              "      <td>Divorced</td>\n",
              "      <td>3.0</td>\n",
              "      <td>165.0</td>\n",
              "      <td>141140.0</td>\n",
              "      <td>Business</td>\n",
              "      <td>Yes</td>\n",
              "      <td>No</td>\n",
              "      <td>Diesel</td>\n",
              "      <td>Sportscar</td>\n",
              "    </tr>\n",
              "    <tr>\n",
              "      <th>4</th>\n",
              "      <td>CusID_00004</td>\n",
              "      <td>23.0</td>\n",
              "      <td>Not_Specified</td>\n",
              "      <td>Vancouver</td>\n",
              "      <td>Single</td>\n",
              "      <td>1.0</td>\n",
              "      <td>147.0</td>\n",
              "      <td>38100.0</td>\n",
              "      <td>Service</td>\n",
              "      <td>Yes</td>\n",
              "      <td>Yes</td>\n",
              "      <td>Hybrid</td>\n",
              "      <td>Sports Utility Vehicle</td>\n",
              "    </tr>\n",
              "    <tr>\n",
              "      <th>...</th>\n",
              "      <td>...</td>\n",
              "      <td>...</td>\n",
              "      <td>...</td>\n",
              "      <td>...</td>\n",
              "      <td>...</td>\n",
              "      <td>...</td>\n",
              "      <td>...</td>\n",
              "      <td>...</td>\n",
              "      <td>...</td>\n",
              "      <td>...</td>\n",
              "      <td>...</td>\n",
              "      <td>...</td>\n",
              "      <td>...</td>\n",
              "    </tr>\n",
              "    <tr>\n",
              "      <th>29995</th>\n",
              "      <td>CusID_29995</td>\n",
              "      <td>24.0</td>\n",
              "      <td>Female</td>\n",
              "      <td>Vienna</td>\n",
              "      <td>Divorced</td>\n",
              "      <td>3.0</td>\n",
              "      <td>155.0</td>\n",
              "      <td>91320.0</td>\n",
              "      <td>Business</td>\n",
              "      <td>Yes</td>\n",
              "      <td>No</td>\n",
              "      <td>Petrol</td>\n",
              "      <td>Sedan</td>\n",
              "    </tr>\n",
              "    <tr>\n",
              "      <th>29996</th>\n",
              "      <td>CusID_29996</td>\n",
              "      <td>32.0</td>\n",
              "      <td>Female</td>\n",
              "      <td>Shinjuku</td>\n",
              "      <td>Married</td>\n",
              "      <td>5.0</td>\n",
              "      <td>163.0</td>\n",
              "      <td>133210.0</td>\n",
              "      <td>Business</td>\n",
              "      <td>Yes</td>\n",
              "      <td>No</td>\n",
              "      <td>Diesel</td>\n",
              "      <td>Sports Utility Vehicle</td>\n",
              "    </tr>\n",
              "    <tr>\n",
              "      <th>29997</th>\n",
              "      <td>CusID_29997</td>\n",
              "      <td>24.0</td>\n",
              "      <td>Female</td>\n",
              "      <td>San Francisco</td>\n",
              "      <td>Single</td>\n",
              "      <td>1.0</td>\n",
              "      <td>NaN</td>\n",
              "      <td>87300.0</td>\n",
              "      <td>Service</td>\n",
              "      <td>Yes</td>\n",
              "      <td>No</td>\n",
              "      <td>Petrol</td>\n",
              "      <td>Luxury Sedan</td>\n",
              "    </tr>\n",
              "    <tr>\n",
              "      <th>29998</th>\n",
              "      <td>CusID_29998</td>\n",
              "      <td>NaN</td>\n",
              "      <td>Female</td>\n",
              "      <td>Vienna</td>\n",
              "      <td>Married</td>\n",
              "      <td>2.0</td>\n",
              "      <td>139.0</td>\n",
              "      <td>94580.0</td>\n",
              "      <td>NaN</td>\n",
              "      <td>Yes</td>\n",
              "      <td>No</td>\n",
              "      <td>Petrol</td>\n",
              "      <td>Sports Utility Vehicle</td>\n",
              "    </tr>\n",
              "    <tr>\n",
              "      <th>29999</th>\n",
              "      <td>CusID_29999</td>\n",
              "      <td>30.0</td>\n",
              "      <td>Female</td>\n",
              "      <td>Florence</td>\n",
              "      <td>Single</td>\n",
              "      <td>1.0</td>\n",
              "      <td>137.0</td>\n",
              "      <td>54380.0</td>\n",
              "      <td>Business</td>\n",
              "      <td>Yes</td>\n",
              "      <td>Yes</td>\n",
              "      <td>Petrol</td>\n",
              "      <td>Luxury Sedan</td>\n",
              "    </tr>\n",
              "  </tbody>\n",
              "</table>\n",
              "<p>30000 rows × 13 columns</p>\n",
              "</div>"
            ],
            "text/plain": [
              "        CustomerID   Age         Gender           City is_Married  \\\n",
              "0      CusID_00000  36.0           Male  New York City   Divorced   \n",
              "1      CusID_00001  15.0         Female  New York City     Single   \n",
              "2      CusID_00002  55.0           Male          Paris    Married   \n",
              "3      CusID_00003  23.0           Male      Vancouver   Divorced   \n",
              "4      CusID_00004  23.0  Not_Specified      Vancouver     Single   \n",
              "...            ...   ...            ...            ...        ...   \n",
              "29995  CusID_29995  24.0         Female         Vienna   Divorced   \n",
              "29996  CusID_29996  32.0         Female       Shinjuku    Married   \n",
              "29997  CusID_29997  24.0         Female  San Francisco     Single   \n",
              "29998  CusID_29998   NaN         Female         Vienna    Married   \n",
              "29999  CusID_29999  30.0         Female       Florence     Single   \n",
              "\n",
              "       family_size  height  annual_income       job is_physically_ok  \\\n",
              "0              2.0   160.0        32200.0   Service              Yes   \n",
              "1              1.0   143.0         9000.0   Service              Yes   \n",
              "2              2.0   168.0       152400.0   Service              Yes   \n",
              "3              3.0   165.0       141140.0  Business              Yes   \n",
              "4              1.0   147.0        38100.0   Service              Yes   \n",
              "...            ...     ...            ...       ...              ...   \n",
              "29995          3.0   155.0        91320.0  Business              Yes   \n",
              "29996          5.0   163.0       133210.0  Business              Yes   \n",
              "29997          1.0     NaN        87300.0   Service              Yes   \n",
              "29998          2.0   139.0        94580.0       NaN              Yes   \n",
              "29999          1.0   137.0        54380.0  Business              Yes   \n",
              "\n",
              "      has_taken_car_loan preferable_fuel_choice           vehicle_choice  \n",
              "0                    Yes                 Hybrid                    Sedan  \n",
              "1                    Yes                 Petrol  Compact Utility Vehicle  \n",
              "2                     No                 Petrol             Sports Sedan  \n",
              "3                     No                 Diesel                Sportscar  \n",
              "4                    Yes                 Hybrid   Sports Utility Vehicle  \n",
              "...                  ...                    ...                      ...  \n",
              "29995                 No                 Petrol                    Sedan  \n",
              "29996                 No                 Diesel   Sports Utility Vehicle  \n",
              "29997                 No                 Petrol             Luxury Sedan  \n",
              "29998                 No                 Petrol   Sports Utility Vehicle  \n",
              "29999                Yes                 Petrol             Luxury Sedan  \n",
              "\n",
              "[30000 rows x 13 columns]"
            ]
          },
          "execution_count": 421,
          "metadata": {},
          "output_type": "execute_result"
        }
      ],
      "source": [
        "df\n"
      ]
    },
    {
      "cell_type": "code",
      "execution_count": null,
      "id": "0b160dc5",
      "metadata": {
        "id": "0b160dc5",
        "outputId": "f6022841-3e3d-4845-da2c-7f16cae34276"
      },
      "outputs": [
        {
          "data": {
            "text/html": [
              "<div>\n",
              "<style scoped>\n",
              "    .dataframe tbody tr th:only-of-type {\n",
              "        vertical-align: middle;\n",
              "    }\n",
              "\n",
              "    .dataframe tbody tr th {\n",
              "        vertical-align: top;\n",
              "    }\n",
              "\n",
              "    .dataframe thead th {\n",
              "        text-align: right;\n",
              "    }\n",
              "</style>\n",
              "<table border=\"1\" class=\"dataframe\">\n",
              "  <thead>\n",
              "    <tr style=\"text-align: right;\">\n",
              "      <th></th>\n",
              "      <th>CustomerID</th>\n",
              "      <th>Age</th>\n",
              "      <th>Gender</th>\n",
              "      <th>City</th>\n",
              "      <th>is_Married</th>\n",
              "      <th>family_size</th>\n",
              "      <th>height</th>\n",
              "      <th>annual_income</th>\n",
              "      <th>job</th>\n",
              "      <th>is_physically_ok</th>\n",
              "      <th>has_taken_car_loan</th>\n",
              "      <th>preferable_fuel_choice</th>\n",
              "    </tr>\n",
              "  </thead>\n",
              "  <tbody>\n",
              "    <tr>\n",
              "      <th>0</th>\n",
              "      <td>CusID_30000</td>\n",
              "      <td>32.0</td>\n",
              "      <td>Female</td>\n",
              "      <td>Delhi</td>\n",
              "      <td>Married</td>\n",
              "      <td>6.0</td>\n",
              "      <td>142.0</td>\n",
              "      <td>150800.0</td>\n",
              "      <td>Service</td>\n",
              "      <td>Yes</td>\n",
              "      <td>No</td>\n",
              "      <td>Diesel</td>\n",
              "    </tr>\n",
              "    <tr>\n",
              "      <th>1</th>\n",
              "      <td>CusID_30001</td>\n",
              "      <td>22.0</td>\n",
              "      <td>Male</td>\n",
              "      <td>Perth</td>\n",
              "      <td>Divorced</td>\n",
              "      <td>4.0</td>\n",
              "      <td>155.0</td>\n",
              "      <td>167000.0</td>\n",
              "      <td>Service</td>\n",
              "      <td>Yes</td>\n",
              "      <td>No</td>\n",
              "      <td>Petrol</td>\n",
              "    </tr>\n",
              "    <tr>\n",
              "      <th>2</th>\n",
              "      <td>CusID_30002</td>\n",
              "      <td>46.0</td>\n",
              "      <td>Female</td>\n",
              "      <td>Barcelona</td>\n",
              "      <td>Married</td>\n",
              "      <td>2.0</td>\n",
              "      <td>NaN</td>\n",
              "      <td>66000.0</td>\n",
              "      <td>Service</td>\n",
              "      <td>Yes</td>\n",
              "      <td>No</td>\n",
              "      <td>Petrol</td>\n",
              "    </tr>\n",
              "    <tr>\n",
              "      <th>3</th>\n",
              "      <td>CusID_30003</td>\n",
              "      <td>35.0</td>\n",
              "      <td>NaN</td>\n",
              "      <td>Kuala Lampur</td>\n",
              "      <td>Single</td>\n",
              "      <td>1.0</td>\n",
              "      <td>137.0</td>\n",
              "      <td>71820.0</td>\n",
              "      <td>Business</td>\n",
              "      <td>Yes</td>\n",
              "      <td>NaN</td>\n",
              "      <td>Petrol</td>\n",
              "    </tr>\n",
              "    <tr>\n",
              "      <th>4</th>\n",
              "      <td>CusID_30004</td>\n",
              "      <td>48.0</td>\n",
              "      <td>Male</td>\n",
              "      <td>Sydney</td>\n",
              "      <td>Married</td>\n",
              "      <td>3.0</td>\n",
              "      <td>162.0</td>\n",
              "      <td>6500.0</td>\n",
              "      <td>Service</td>\n",
              "      <td>Yes</td>\n",
              "      <td>Yes</td>\n",
              "      <td>Hybrid</td>\n",
              "    </tr>\n",
              "    <tr>\n",
              "      <th>...</th>\n",
              "      <td>...</td>\n",
              "      <td>...</td>\n",
              "      <td>...</td>\n",
              "      <td>...</td>\n",
              "      <td>...</td>\n",
              "      <td>...</td>\n",
              "      <td>...</td>\n",
              "      <td>...</td>\n",
              "      <td>...</td>\n",
              "      <td>...</td>\n",
              "      <td>...</td>\n",
              "      <td>...</td>\n",
              "    </tr>\n",
              "    <tr>\n",
              "      <th>4995</th>\n",
              "      <td>CusID_34995</td>\n",
              "      <td>31.0</td>\n",
              "      <td>Female</td>\n",
              "      <td>Mumbai</td>\n",
              "      <td>NaN</td>\n",
              "      <td>5.0</td>\n",
              "      <td>145.0</td>\n",
              "      <td>NaN</td>\n",
              "      <td>Service</td>\n",
              "      <td>No</td>\n",
              "      <td>Yes</td>\n",
              "      <td>Petrol</td>\n",
              "    </tr>\n",
              "    <tr>\n",
              "      <th>4996</th>\n",
              "      <td>CusID_34996</td>\n",
              "      <td>39.0</td>\n",
              "      <td>Male</td>\n",
              "      <td>NaN</td>\n",
              "      <td>Married</td>\n",
              "      <td>2.0</td>\n",
              "      <td>169.0</td>\n",
              "      <td>52870.0</td>\n",
              "      <td>Business</td>\n",
              "      <td>Yes</td>\n",
              "      <td>Yes</td>\n",
              "      <td>Petrol</td>\n",
              "    </tr>\n",
              "    <tr>\n",
              "      <th>4997</th>\n",
              "      <td>CusID_34997</td>\n",
              "      <td>28.0</td>\n",
              "      <td>Male</td>\n",
              "      <td>Berlin</td>\n",
              "      <td>Divorced</td>\n",
              "      <td>4.0</td>\n",
              "      <td>155.0</td>\n",
              "      <td>151500.0</td>\n",
              "      <td>Business</td>\n",
              "      <td>Yes</td>\n",
              "      <td>No</td>\n",
              "      <td>Diesel</td>\n",
              "    </tr>\n",
              "    <tr>\n",
              "      <th>4998</th>\n",
              "      <td>CusID_34998</td>\n",
              "      <td>37.0</td>\n",
              "      <td>Male</td>\n",
              "      <td>Vancouver</td>\n",
              "      <td>Married</td>\n",
              "      <td>5.0</td>\n",
              "      <td>153.0</td>\n",
              "      <td>110470.0</td>\n",
              "      <td>Business</td>\n",
              "      <td>Yes</td>\n",
              "      <td>No</td>\n",
              "      <td>Petrol</td>\n",
              "    </tr>\n",
              "    <tr>\n",
              "      <th>4999</th>\n",
              "      <td>CusID_34999</td>\n",
              "      <td>26.0</td>\n",
              "      <td>Female</td>\n",
              "      <td>Vienna</td>\n",
              "      <td>Divorced</td>\n",
              "      <td>3.0</td>\n",
              "      <td>137.0</td>\n",
              "      <td>33600.0</td>\n",
              "      <td>Service</td>\n",
              "      <td>Yes</td>\n",
              "      <td>Yes</td>\n",
              "      <td>Hybrid</td>\n",
              "    </tr>\n",
              "  </tbody>\n",
              "</table>\n",
              "<p>5000 rows × 12 columns</p>\n",
              "</div>"
            ],
            "text/plain": [
              "       CustomerID   Age  Gender          City is_Married  family_size  height  \\\n",
              "0     CusID_30000  32.0  Female         Delhi    Married          6.0   142.0   \n",
              "1     CusID_30001  22.0    Male         Perth   Divorced          4.0   155.0   \n",
              "2     CusID_30002  46.0  Female     Barcelona    Married          2.0     NaN   \n",
              "3     CusID_30003  35.0     NaN  Kuala Lampur     Single          1.0   137.0   \n",
              "4     CusID_30004  48.0    Male        Sydney    Married          3.0   162.0   \n",
              "...           ...   ...     ...           ...        ...          ...     ...   \n",
              "4995  CusID_34995  31.0  Female        Mumbai        NaN          5.0   145.0   \n",
              "4996  CusID_34996  39.0    Male           NaN    Married          2.0   169.0   \n",
              "4997  CusID_34997  28.0    Male        Berlin   Divorced          4.0   155.0   \n",
              "4998  CusID_34998  37.0    Male     Vancouver    Married          5.0   153.0   \n",
              "4999  CusID_34999  26.0  Female        Vienna   Divorced          3.0   137.0   \n",
              "\n",
              "      annual_income       job is_physically_ok has_taken_car_loan  \\\n",
              "0          150800.0   Service              Yes                 No   \n",
              "1          167000.0   Service              Yes                 No   \n",
              "2           66000.0   Service              Yes                 No   \n",
              "3           71820.0  Business              Yes                NaN   \n",
              "4            6500.0   Service              Yes                Yes   \n",
              "...             ...       ...              ...                ...   \n",
              "4995            NaN   Service               No                Yes   \n",
              "4996        52870.0  Business              Yes                Yes   \n",
              "4997       151500.0  Business              Yes                 No   \n",
              "4998       110470.0  Business              Yes                 No   \n",
              "4999        33600.0   Service              Yes                Yes   \n",
              "\n",
              "     preferable_fuel_choice  \n",
              "0                    Diesel  \n",
              "1                    Petrol  \n",
              "2                    Petrol  \n",
              "3                    Petrol  \n",
              "4                    Hybrid  \n",
              "...                     ...  \n",
              "4995                 Petrol  \n",
              "4996                 Petrol  \n",
              "4997                 Diesel  \n",
              "4998                 Petrol  \n",
              "4999                 Hybrid  \n",
              "\n",
              "[5000 rows x 12 columns]"
            ]
          },
          "execution_count": 422,
          "metadata": {},
          "output_type": "execute_result"
        }
      ],
      "source": [
        "df1"
      ]
    },
    {
      "cell_type": "code",
      "execution_count": null,
      "id": "582ac415",
      "metadata": {
        "id": "582ac415"
      },
      "outputs": [],
      "source": [
        "%matplotlib inline\n",
        "\n",
        "from sklearn.model_selection import train_test_split\n",
        "from sklearn import feature_selection\n",
        "from sklearn import model_selection\n",
        "from sklearn.metrics import accuracy_score\n",
        "from sklearn.linear_model import LogisticRegression\n",
        "from sklearn.svm import SVC\n",
        "from sklearn.naive_bayes import GaussianNB\n",
        "from sklearn.ensemble import RandomForestClassifier,GradientBoostingClassifier\n",
        "from sklearn.neighbors import KNeighborsClassifier"
      ]
    },
    {
      "cell_type": "code",
      "execution_count": null,
      "id": "53dcfb69",
      "metadata": {
        "id": "53dcfb69"
      },
      "outputs": [],
      "source": [
        "train_original=df.copy()\n",
        "test_original=df1.copy()"
      ]
    },
    {
      "cell_type": "code",
      "execution_count": null,
      "id": "a5bd3f4c",
      "metadata": {
        "id": "a5bd3f4c",
        "outputId": "0dca18ce-3898-422e-c341-5ace3a599003"
      },
      "outputs": [
        {
          "name": "stdout",
          "output_type": "stream",
          "text": [
            "<class 'pandas.core.frame.DataFrame'>\n",
            "RangeIndex: 30000 entries, 0 to 29999\n",
            "Data columns (total 13 columns):\n",
            " #   Column                  Non-Null Count  Dtype  \n",
            "---  ------                  --------------  -----  \n",
            " 0   CustomerID              30000 non-null  object \n",
            " 1   Age                     29561 non-null  float64\n",
            " 2   Gender                  29583 non-null  object \n",
            " 3   City                    29577 non-null  object \n",
            " 4   is_Married              29580 non-null  object \n",
            " 5   family_size             29586 non-null  float64\n",
            " 6   height                  29569 non-null  float64\n",
            " 7   annual_income           29581 non-null  float64\n",
            " 8   job                     29572 non-null  object \n",
            " 9   is_physically_ok        29578 non-null  object \n",
            " 10  has_taken_car_loan      29569 non-null  object \n",
            " 11  preferable_fuel_choice  29572 non-null  object \n",
            " 12  vehicle_choice          30000 non-null  object \n",
            "dtypes: float64(4), object(9)\n",
            "memory usage: 3.0+ MB\n"
          ]
        }
      ],
      "source": [
        "df.info()"
      ]
    },
    {
      "cell_type": "code",
      "execution_count": null,
      "id": "13d5e60d",
      "metadata": {
        "id": "13d5e60d",
        "outputId": "b3023375-4116-4302-f973-9b08ea778160"
      },
      "outputs": [
        {
          "data": {
            "text/plain": [
              "(30000, 13)"
            ]
          },
          "execution_count": 426,
          "metadata": {},
          "output_type": "execute_result"
        }
      ],
      "source": [
        "df.shape"
      ]
    },
    {
      "cell_type": "code",
      "execution_count": null,
      "id": "6114fe29",
      "metadata": {
        "id": "6114fe29",
        "outputId": "1816bb88-ac17-4101-abd0-026548011916"
      },
      "outputs": [
        {
          "data": {
            "text/plain": [
              "CustomerID                  0\n",
              "Age                       439\n",
              "Gender                    417\n",
              "City                      423\n",
              "is_Married                420\n",
              "family_size               414\n",
              "height                    431\n",
              "annual_income             419\n",
              "job                       428\n",
              "is_physically_ok          422\n",
              "has_taken_car_loan        431\n",
              "preferable_fuel_choice    428\n",
              "vehicle_choice              0\n",
              "dtype: int64"
            ]
          },
          "execution_count": 427,
          "metadata": {},
          "output_type": "execute_result"
        }
      ],
      "source": [
        "df.isna().sum()"
      ]
    },
    {
      "cell_type": "code",
      "execution_count": null,
      "id": "6d685b2d",
      "metadata": {
        "id": "6d685b2d",
        "outputId": "134b4001-664d-4584-f491-658208119877"
      },
      "outputs": [
        {
          "data": {
            "text/plain": [
              "Index(['CustomerID', 'Age', 'Gender', 'City', 'is_Married', 'family_size',\n",
              "       'height', 'annual_income', 'job', 'is_physically_ok',\n",
              "       'has_taken_car_loan', 'preferable_fuel_choice', 'vehicle_choice'],\n",
              "      dtype='object')"
            ]
          },
          "execution_count": 428,
          "metadata": {},
          "output_type": "execute_result"
        }
      ],
      "source": [
        "df.columns"
      ]
    },
    {
      "cell_type": "code",
      "execution_count": null,
      "id": "87acffde",
      "metadata": {
        "id": "87acffde",
        "outputId": "232ed089-cdb6-4b5b-a155-8e693d8d2ee5"
      },
      "outputs": [
        {
          "name": "stdout",
          "output_type": "stream",
          "text": [
            "<class 'pandas.core.frame.DataFrame'>\n",
            "RangeIndex: 5000 entries, 0 to 4999\n",
            "Data columns (total 12 columns):\n",
            " #   Column                  Non-Null Count  Dtype  \n",
            "---  ------                  --------------  -----  \n",
            " 0   CustomerID              5000 non-null   object \n",
            " 1   Age                     4933 non-null   float64\n",
            " 2   Gender                  4919 non-null   object \n",
            " 3   City                    4928 non-null   object \n",
            " 4   is_Married              4915 non-null   object \n",
            " 5   family_size             4927 non-null   float64\n",
            " 6   height                  4933 non-null   float64\n",
            " 7   annual_income           4922 non-null   float64\n",
            " 8   job                     4926 non-null   object \n",
            " 9   is_physically_ok        4934 non-null   object \n",
            " 10  has_taken_car_loan      4939 non-null   object \n",
            " 11  preferable_fuel_choice  4917 non-null   object \n",
            "dtypes: float64(4), object(8)\n",
            "memory usage: 468.9+ KB\n"
          ]
        }
      ],
      "source": [
        "df1.info()"
      ]
    },
    {
      "cell_type": "code",
      "execution_count": null,
      "id": "6b76e13c",
      "metadata": {
        "id": "6b76e13c",
        "outputId": "c4cb5c21-9643-4ef8-d7fb-865483ffb195"
      },
      "outputs": [
        {
          "data": {
            "text/plain": [
              "CustomerID                 0\n",
              "Age                       67\n",
              "Gender                    81\n",
              "City                      72\n",
              "is_Married                85\n",
              "family_size               73\n",
              "height                    67\n",
              "annual_income             78\n",
              "job                       74\n",
              "is_physically_ok          66\n",
              "has_taken_car_loan        61\n",
              "preferable_fuel_choice    83\n",
              "dtype: int64"
            ]
          },
          "execution_count": 430,
          "metadata": {},
          "output_type": "execute_result"
        }
      ],
      "source": [
        "df1.isna().sum()"
      ]
    },
    {
      "cell_type": "code",
      "execution_count": null,
      "id": "cf7f9763",
      "metadata": {
        "id": "cf7f9763"
      },
      "outputs": [],
      "source": [
        "df1.is_physically_ok=df1.is_physically_ok.map({\"No\":0,\"Yes\":1})\n",
        "df1.has_taken_car_loan=df1.has_taken_car_loan.map({\"No\":0,\"Yes\":1})"
      ]
    },
    {
      "cell_type": "code",
      "execution_count": null,
      "id": "f2777104",
      "metadata": {
        "id": "f2777104",
        "outputId": "e00c0a70-fa6f-452b-ba2a-a1b80c08f779"
      },
      "outputs": [
        {
          "data": {
            "text/plain": [
              "Sports Utility Vehicle     3718\n",
              "Compact Utility Vehicle    3137\n",
              "Luxury Sedan               2887\n",
              "Crossover                  2640\n",
              "Sports Sedan               2317\n",
              "Utility Vehicle            2309\n",
              "Sedan                      2210\n",
              "Hatchback                  1853\n",
              "Compact Sedan              1629\n",
              "Pickup-Truck               1566\n",
              "Luxury Coupe               1097\n",
              "Sportscar                  1011\n",
              "Convertible                 949\n",
              "Station Wagon               911\n",
              "Coupe                       549\n",
              "Sports Coupe                549\n",
              "Utility vehicle             340\n",
              "Minivan                     328\n",
              "Name: vehicle_choice, dtype: int64"
            ]
          },
          "execution_count": 432,
          "metadata": {},
          "output_type": "execute_result"
        }
      ],
      "source": [
        "df['vehicle_choice'].value_counts()"
      ]
    },
    {
      "cell_type": "code",
      "execution_count": null,
      "id": "e2ed6845",
      "metadata": {
        "id": "e2ed6845",
        "outputId": "802032b6-c359-40c2-c8aa-a2d76ad14dc0"
      },
      "outputs": [
        {
          "data": {
            "text/plain": [
              "CustomerID                  0\n",
              "Age                       439\n",
              "Gender                    417\n",
              "City                      423\n",
              "is_Married                420\n",
              "family_size               414\n",
              "height                    431\n",
              "annual_income             419\n",
              "job                       428\n",
              "is_physically_ok          422\n",
              "has_taken_car_loan        431\n",
              "preferable_fuel_choice    428\n",
              "vehicle_choice              0\n",
              "dtype: int64"
            ]
          },
          "execution_count": 433,
          "metadata": {},
          "output_type": "execute_result"
        }
      ],
      "source": [
        "df.apply(lambda x: sum(x.isnull()),axis=0)"
      ]
    },
    {
      "cell_type": "code",
      "execution_count": null,
      "id": "911446c4",
      "metadata": {
        "id": "911446c4",
        "outputId": "d31ed0c5-d21e-4056-9886-abea97a7e1c2"
      },
      "outputs": [
        {
          "data": {
            "text/plain": [
              "Petrol    12180\n",
              "Diesel    11187\n",
              "Hybrid     5107\n",
              "EV         1095\n",
              "SVY@#         1\n",
              "IX%K#         1\n",
              "#%KXJ         1\n",
              "Name: preferable_fuel_choice, dtype: int64"
            ]
          },
          "execution_count": 434,
          "metadata": {},
          "output_type": "execute_result"
        }
      ],
      "source": [
        "df[\"preferable_fuel_choice\"].value_counts()"
      ]
    },
    {
      "cell_type": "code",
      "execution_count": null,
      "id": "5e89cb80",
      "metadata": {
        "id": "5e89cb80",
        "outputId": "5ec350c1-066a-4e3b-c1d7-d3fd67c62ebb"
      },
      "outputs": [
        {
          "data": {
            "text/plain": [
              "<AxesSubplot:>"
            ]
          },
          "execution_count": 435,
          "metadata": {},
          "output_type": "execute_result"
        },
        {
          "data": {
            "image/png": "[encoded data removed]",
            "text/plain": [
              "<Figure size 900x600 with 2 Axes>"
            ]
          },
          "metadata": {},
          "output_type": "display_data"
        }
      ],
      "source": [
        "matrix=df.corr()\n",
        "f,ax=plt.subplots(figsize=(9,6))\n",
        "sns.heatmap(matrix,vmax=.8,square=True,cmap=\"BuPu\")"
      ]
    },
    {
      "cell_type": "code",
      "execution_count": null,
      "id": "5bf337e9",
      "metadata": {
        "id": "5bf337e9"
      },
      "outputs": [],
      "source": [
        "df[\"Age\"].fillna(df[\"Age\"].mode()[0],inplace=True)\n",
        "df[\"City\"].fillna(df[\"City\"].mode()[0],inplace=True)\n",
        "df[\"Gender\"].fillna(df[\"Gender\"].mode()[0],inplace=True)\n",
        "df[\"is_Married\"].fillna(df[\"is_Married\"].mode()[0],inplace=True)\n",
        "df[\"family_size\"].fillna(df[\"family_size\"].mode()[0],inplace=True)\n",
        "df[\"height\"].fillna(df[\"height\"].mode()[0],inplace=True)\n",
        "df[\"annual_income\"].fillna(df[\"annual_income\"].mode()[0],inplace=True)\n",
        "df[\"job\"].fillna(df[\"job\"].mode()[0],inplace=True)\n",
        "df[\"is_physically_ok\"].fillna(df[\"is_physically_ok\"].mode()[0],inplace=True)\n",
        "df[\"has_taken_car_loan\"].fillna(df[\"has_taken_car_loan\"].mode()[0],inplace=True)\n",
        "df[\"preferable_fuel_choice\"].fillna(df[\"preferable_fuel_choice\"].mode()[0],inplace=True)"
      ]
    },
    {
      "cell_type": "code",
      "execution_count": null,
      "id": "a83c5398",
      "metadata": {
        "id": "a83c5398",
        "outputId": "8855499a-301c-4ca3-a212-6ce726330966"
      },
      "outputs": [
        {
          "data": {
            "text/plain": [
              "CustomerID                0\n",
              "Age                       0\n",
              "Gender                    0\n",
              "City                      0\n",
              "is_Married                0\n",
              "family_size               0\n",
              "height                    0\n",
              "annual_income             0\n",
              "job                       0\n",
              "is_physically_ok          0\n",
              "has_taken_car_loan        0\n",
              "preferable_fuel_choice    0\n",
              "vehicle_choice            0\n",
              "dtype: int64"
            ]
          },
          "execution_count": 437,
          "metadata": {},
          "output_type": "execute_result"
        }
      ],
      "source": [
        "df.isna().sum()"
      ]
    },
    {
      "cell_type": "markdown",
      "id": "2a878e00",
      "metadata": {
        "id": "2a878e00"
      },
      "source": [
        "Test value fill missing value"
      ]
    },
    {
      "cell_type": "code",
      "execution_count": null,
      "id": "d09cedcc",
      "metadata": {
        "id": "d09cedcc",
        "outputId": "a118b05d-a26b-42ea-86ea-3c6385100b33"
      },
      "outputs": [
        {
          "data": {
            "text/plain": [
              "Index(['CustomerID', 'Age', 'Gender', 'City', 'is_Married', 'family_size',\n",
              "       'height', 'annual_income', 'job', 'is_physically_ok',\n",
              "       'has_taken_car_loan', 'preferable_fuel_choice'],\n",
              "      dtype='object')"
            ]
          },
          "execution_count": 438,
          "metadata": {},
          "output_type": "execute_result"
        }
      ],
      "source": [
        "df1.columns"
      ]
    },
    {
      "cell_type": "code",
      "execution_count": null,
      "id": "31cfc6c0",
      "metadata": {
        "id": "31cfc6c0",
        "outputId": "1ffd32ac-ce0d-4f17-eba7-c6e18f400845"
      },
      "outputs": [
        {
          "data": {
            "text/plain": [
              "CustomerID                 0\n",
              "Age                       67\n",
              "Gender                    81\n",
              "City                      72\n",
              "is_Married                85\n",
              "family_size               73\n",
              "height                    67\n",
              "annual_income             78\n",
              "job                       74\n",
              "is_physically_ok          67\n",
              "has_taken_car_loan        63\n",
              "preferable_fuel_choice    83\n",
              "dtype: int64"
            ]
          },
          "execution_count": 439,
          "metadata": {},
          "output_type": "execute_result"
        }
      ],
      "source": [
        "df1.isna().sum()"
      ]
    },
    {
      "cell_type": "code",
      "execution_count": null,
      "id": "45558889",
      "metadata": {
        "id": "45558889"
      },
      "outputs": [],
      "source": [
        "df1[\"Age\"].fillna(df[\"Age\"].mode()[0],inplace=True)\n",
        "df1[\"City\"].fillna(df[\"City\"].mode()[0],inplace=True)\n",
        "df1[\"Gender\"].fillna(df[\"Gender\"].mode()[0],inplace=True)\n",
        "df1[\"is_Married\"].fillna(df[\"is_Married\"].mode()[0],inplace=True)\n",
        "df1[\"family_size\"].fillna(df[\"family_size\"].mode()[0],inplace=True)\n",
        "df1[\"height\"].fillna(df[\"height\"].mode()[0],inplace=True)\n",
        "df1[\"annual_income\"].fillna(df[\"annual_income\"].mode()[0],inplace=True)\n",
        "df1[\"job\"].fillna(df[\"job\"].mode()[0],inplace=True)\n",
        "df1[\"is_physically_ok\"].fillna(df[\"is_physically_ok\"].mode()[0],inplace=True)\n",
        "df1[\"has_taken_car_loan\"].fillna(df[\"has_taken_car_loan\"].mode()[0],inplace=True)\n",
        "df1[\"preferable_fuel_choice\"].fillna(df[\"preferable_fuel_choice\"].mode()[0],inplace=True)"
      ]
    },
    {
      "cell_type": "code",
      "execution_count": null,
      "id": "97e88fa7",
      "metadata": {
        "id": "97e88fa7",
        "outputId": "7f0cbb2f-9a10-4d73-b2df-3cfe05869495"
      },
      "outputs": [
        {
          "data": {
            "text/plain": [
              "CustomerID                0\n",
              "Age                       0\n",
              "Gender                    0\n",
              "City                      0\n",
              "is_Married                0\n",
              "family_size               0\n",
              "height                    0\n",
              "annual_income             0\n",
              "job                       0\n",
              "is_physically_ok          0\n",
              "has_taken_car_loan        0\n",
              "preferable_fuel_choice    0\n",
              "dtype: int64"
            ]
          },
          "execution_count": 441,
          "metadata": {},
          "output_type": "execute_result"
        }
      ],
      "source": [
        "df1.isna().sum()"
      ]
    },
    {
      "cell_type": "code",
      "execution_count": null,
      "id": "9850f75d",
      "metadata": {
        "id": "9850f75d",
        "outputId": "83faa744-d15e-46b2-f6ee-a3a897c2306e"
      },
      "outputs": [
        {
          "data": {
            "text/plain": [
              "31.0    1740\n",
              "27.0    1276\n",
              "22.0    1266\n",
              "33.0    1253\n",
              "23.0    1237\n",
              "20.0    1232\n",
              "32.0    1228\n",
              "28.0    1220\n",
              "35.0    1217\n",
              "34.0    1214\n",
              "30.0    1211\n",
              "24.0    1207\n",
              "26.0    1182\n",
              "21.0    1171\n",
              "29.0    1166\n",
              "25.0    1151\n",
              "38.0     768\n",
              "37.0     730\n",
              "36.0     723\n",
              "39.0     718\n",
              "15.0     513\n",
              "17.0     510\n",
              "19.0     498\n",
              "18.0     479\n",
              "16.0     439\n",
              "45.0     307\n",
              "49.0     281\n",
              "40.0     273\n",
              "41.0     270\n",
              "48.0     267\n",
              "46.0     267\n",
              "50.0     264\n",
              "42.0     261\n",
              "43.0     257\n",
              "44.0     255\n",
              "47.0     253\n",
              "54.0     181\n",
              "55.0     178\n",
              "57.0     176\n",
              "51.0     174\n",
              "52.0     172\n",
              "60.0     170\n",
              "59.0     166\n",
              "56.0     166\n",
              "53.0     163\n",
              "58.0     150\n",
              "Name: Age, dtype: int64"
            ]
          },
          "execution_count": 442,
          "metadata": {},
          "output_type": "execute_result"
        }
      ],
      "source": [
        "df['Age'].value_counts()"
      ]
    },
    {
      "cell_type": "code",
      "execution_count": null,
      "id": "2e8ff02a",
      "metadata": {
        "id": "2e8ff02a",
        "outputId": "cfa8f029-735f-45e5-eac2-9738188b3d76"
      },
      "outputs": [
        {
          "data": {
            "text/plain": [
              "Index(['CustomerID', 'Age', 'Gender', 'City', 'is_Married', 'family_size',\n",
              "       'height', 'annual_income', 'job', 'is_physically_ok',\n",
              "       'has_taken_car_loan', 'preferable_fuel_choice', 'vehicle_choice'],\n",
              "      dtype='object')"
            ]
          },
          "execution_count": 443,
          "metadata": {},
          "output_type": "execute_result"
        }
      ],
      "source": [
        "df.columns"
      ]
    },
    {
      "cell_type": "code",
      "execution_count": null,
      "id": "bb8ed318",
      "metadata": {
        "id": "bb8ed318",
        "outputId": "db847fa1-9e1a-4b1b-9b2f-038786d8d2a3"
      },
      "outputs": [
        {
          "data": {
            "text/plain": [
              "Index(['CustomerID', 'Age', 'Gender', 'City', 'is_Married', 'family_size',\n",
              "       'height', 'annual_income', 'job', 'is_physically_ok',\n",
              "       'has_taken_car_loan', 'preferable_fuel_choice'],\n",
              "      dtype='object')"
            ]
          },
          "execution_count": 444,
          "metadata": {},
          "output_type": "execute_result"
        }
      ],
      "source": [
        "df1.columns"
      ]
    },
    {
      "cell_type": "code",
      "execution_count": null,
      "id": "5966801d",
      "metadata": {
        "id": "5966801d",
        "outputId": "a318cae2-e2a3-4783-ddc4-e46484275e9f"
      },
      "outputs": [
        {
          "data": {
            "text/html": [
              "<div>\n",
              "<style scoped>\n",
              "    .dataframe tbody tr th:only-of-type {\n",
              "        vertical-align: middle;\n",
              "    }\n",
              "\n",
              "    .dataframe tbody tr th {\n",
              "        vertical-align: top;\n",
              "    }\n",
              "\n",
              "    .dataframe thead th {\n",
              "        text-align: right;\n",
              "    }\n",
              "</style>\n",
              "<table border=\"1\" class=\"dataframe\">\n",
              "  <thead>\n",
              "    <tr style=\"text-align: right;\">\n",
              "      <th></th>\n",
              "      <th>Age</th>\n",
              "      <th>family_size</th>\n",
              "      <th>annual_income</th>\n",
              "      <th>vehicle_choice</th>\n",
              "    </tr>\n",
              "  </thead>\n",
              "  <tbody>\n",
              "    <tr>\n",
              "      <th>0</th>\n",
              "      <td>36.0</td>\n",
              "      <td>2.0</td>\n",
              "      <td>32200.0</td>\n",
              "      <td>Sedan</td>\n",
              "    </tr>\n",
              "    <tr>\n",
              "      <th>1</th>\n",
              "      <td>15.0</td>\n",
              "      <td>1.0</td>\n",
              "      <td>9000.0</td>\n",
              "      <td>Compact Utility Vehicle</td>\n",
              "    </tr>\n",
              "    <tr>\n",
              "      <th>2</th>\n",
              "      <td>55.0</td>\n",
              "      <td>2.0</td>\n",
              "      <td>152400.0</td>\n",
              "      <td>Sports Sedan</td>\n",
              "    </tr>\n",
              "    <tr>\n",
              "      <th>3</th>\n",
              "      <td>23.0</td>\n",
              "      <td>3.0</td>\n",
              "      <td>141140.0</td>\n",
              "      <td>Sportscar</td>\n",
              "    </tr>\n",
              "    <tr>\n",
              "      <th>4</th>\n",
              "      <td>23.0</td>\n",
              "      <td>1.0</td>\n",
              "      <td>38100.0</td>\n",
              "      <td>Sports Utility Vehicle</td>\n",
              "    </tr>\n",
              "    <tr>\n",
              "      <th>...</th>\n",
              "      <td>...</td>\n",
              "      <td>...</td>\n",
              "      <td>...</td>\n",
              "      <td>...</td>\n",
              "    </tr>\n",
              "    <tr>\n",
              "      <th>29995</th>\n",
              "      <td>24.0</td>\n",
              "      <td>3.0</td>\n",
              "      <td>91320.0</td>\n",
              "      <td>Sedan</td>\n",
              "    </tr>\n",
              "    <tr>\n",
              "      <th>29996</th>\n",
              "      <td>32.0</td>\n",
              "      <td>5.0</td>\n",
              "      <td>133210.0</td>\n",
              "      <td>Sports Utility Vehicle</td>\n",
              "    </tr>\n",
              "    <tr>\n",
              "      <th>29997</th>\n",
              "      <td>24.0</td>\n",
              "      <td>1.0</td>\n",
              "      <td>87300.0</td>\n",
              "      <td>Luxury Sedan</td>\n",
              "    </tr>\n",
              "    <tr>\n",
              "      <th>29998</th>\n",
              "      <td>31.0</td>\n",
              "      <td>2.0</td>\n",
              "      <td>94580.0</td>\n",
              "      <td>Sports Utility Vehicle</td>\n",
              "    </tr>\n",
              "    <tr>\n",
              "      <th>29999</th>\n",
              "      <td>30.0</td>\n",
              "      <td>1.0</td>\n",
              "      <td>54380.0</td>\n",
              "      <td>Luxury Sedan</td>\n",
              "    </tr>\n",
              "  </tbody>\n",
              "</table>\n",
              "<p>30000 rows × 4 columns</p>\n",
              "</div>"
            ],
            "text/plain": [
              "        Age  family_size  annual_income           vehicle_choice\n",
              "0      36.0          2.0        32200.0                    Sedan\n",
              "1      15.0          1.0         9000.0  Compact Utility Vehicle\n",
              "2      55.0          2.0       152400.0             Sports Sedan\n",
              "3      23.0          3.0       141140.0                Sportscar\n",
              "4      23.0          1.0        38100.0   Sports Utility Vehicle\n",
              "...     ...          ...            ...                      ...\n",
              "29995  24.0          3.0        91320.0                    Sedan\n",
              "29996  32.0          5.0       133210.0   Sports Utility Vehicle\n",
              "29997  24.0          1.0        87300.0             Luxury Sedan\n",
              "29998  31.0          2.0        94580.0   Sports Utility Vehicle\n",
              "29999  30.0          1.0        54380.0             Luxury Sedan\n",
              "\n",
              "[30000 rows x 4 columns]"
            ]
          },
          "execution_count": 445,
          "metadata": {},
          "output_type": "execute_result"
        }
      ],
      "source": [
        "df=df.drop([\"CustomerID\",\"City\",\"height\",\"Gender\",\"job\",\"is_Married\",\"has_taken_car_loan\",\"preferable_fuel_choice\",\"is_physically_ok\"],axis=1)\n",
        "df"
      ]
    },
    {
      "cell_type": "code",
      "execution_count": null,
      "id": "ddfced86",
      "metadata": {
        "id": "ddfced86",
        "outputId": "b8b60531-e252-4b68-c9b2-3ce0271434fa"
      },
      "outputs": [
        {
          "data": {
            "text/html": [
              "<div>\n",
              "<style scoped>\n",
              "    .dataframe tbody tr th:only-of-type {\n",
              "        vertical-align: middle;\n",
              "    }\n",
              "\n",
              "    .dataframe tbody tr th {\n",
              "        vertical-align: top;\n",
              "    }\n",
              "\n",
              "    .dataframe thead th {\n",
              "        text-align: right;\n",
              "    }\n",
              "</style>\n",
              "<table border=\"1\" class=\"dataframe\">\n",
              "  <thead>\n",
              "    <tr style=\"text-align: right;\">\n",
              "      <th></th>\n",
              "      <th>Age</th>\n",
              "      <th>family_size</th>\n",
              "      <th>annual_income</th>\n",
              "    </tr>\n",
              "  </thead>\n",
              "  <tbody>\n",
              "    <tr>\n",
              "      <th>0</th>\n",
              "      <td>32.0</td>\n",
              "      <td>6.0</td>\n",
              "      <td>150800.0</td>\n",
              "    </tr>\n",
              "    <tr>\n",
              "      <th>1</th>\n",
              "      <td>22.0</td>\n",
              "      <td>4.0</td>\n",
              "      <td>167000.0</td>\n",
              "    </tr>\n",
              "    <tr>\n",
              "      <th>2</th>\n",
              "      <td>46.0</td>\n",
              "      <td>2.0</td>\n",
              "      <td>66000.0</td>\n",
              "    </tr>\n",
              "    <tr>\n",
              "      <th>3</th>\n",
              "      <td>35.0</td>\n",
              "      <td>1.0</td>\n",
              "      <td>71820.0</td>\n",
              "    </tr>\n",
              "    <tr>\n",
              "      <th>4</th>\n",
              "      <td>48.0</td>\n",
              "      <td>3.0</td>\n",
              "      <td>6500.0</td>\n",
              "    </tr>\n",
              "    <tr>\n",
              "      <th>...</th>\n",
              "      <td>...</td>\n",
              "      <td>...</td>\n",
              "      <td>...</td>\n",
              "    </tr>\n",
              "    <tr>\n",
              "      <th>4995</th>\n",
              "      <td>31.0</td>\n",
              "      <td>5.0</td>\n",
              "      <td>5700.0</td>\n",
              "    </tr>\n",
              "    <tr>\n",
              "      <th>4996</th>\n",
              "      <td>39.0</td>\n",
              "      <td>2.0</td>\n",
              "      <td>52870.0</td>\n",
              "    </tr>\n",
              "    <tr>\n",
              "      <th>4997</th>\n",
              "      <td>28.0</td>\n",
              "      <td>4.0</td>\n",
              "      <td>151500.0</td>\n",
              "    </tr>\n",
              "    <tr>\n",
              "      <th>4998</th>\n",
              "      <td>37.0</td>\n",
              "      <td>5.0</td>\n",
              "      <td>110470.0</td>\n",
              "    </tr>\n",
              "    <tr>\n",
              "      <th>4999</th>\n",
              "      <td>26.0</td>\n",
              "      <td>3.0</td>\n",
              "      <td>33600.0</td>\n",
              "    </tr>\n",
              "  </tbody>\n",
              "</table>\n",
              "<p>5000 rows × 3 columns</p>\n",
              "</div>"
            ],
            "text/plain": [
              "       Age  family_size  annual_income\n",
              "0     32.0          6.0       150800.0\n",
              "1     22.0          4.0       167000.0\n",
              "2     46.0          2.0        66000.0\n",
              "3     35.0          1.0        71820.0\n",
              "4     48.0          3.0         6500.0\n",
              "...    ...          ...            ...\n",
              "4995  31.0          5.0         5700.0\n",
              "4996  39.0          2.0        52870.0\n",
              "4997  28.0          4.0       151500.0\n",
              "4998  37.0          5.0       110470.0\n",
              "4999  26.0          3.0        33600.0\n",
              "\n",
              "[5000 rows x 3 columns]"
            ]
          },
          "execution_count": 446,
          "metadata": {},
          "output_type": "execute_result"
        }
      ],
      "source": [
        "df1=df1.drop([\"CustomerID\",\"City\",\"height\",\"Gender\",\"is_Married\",\"job\",\"has_taken_car_loan\",\"preferable_fuel_choice\",\"is_physically_ok\"],axis=1)\n",
        "df1"
      ]
    },
    {
      "cell_type": "code",
      "execution_count": null,
      "id": "9af1abd8",
      "metadata": {
        "id": "9af1abd8",
        "outputId": "3d5a98a7-7089-40fc-e0c4-e1fb5878c9b5"
      },
      "outputs": [
        {
          "name": "stderr",
          "output_type": "stream",
          "text": [
            "C:\\Users\\tessl\\AppData\\Local\\Temp\\ipykernel_1048\\271864012.py:1: FutureWarning: In a future version of pandas all arguments of DataFrame.drop except for the argument 'labels' will be keyword-only.\n",
            "  x=df.drop(\"vehicle_choice\",1)\n"
          ]
        }
      ],
      "source": [
        "x=df.drop(\"vehicle_choice\",1)\n",
        "y=df.vehicle_choice"
      ]
    },
    {
      "cell_type": "code",
      "execution_count": null,
      "id": "7bbdb5b9",
      "metadata": {
        "id": "7bbdb5b9"
      },
      "outputs": [],
      "source": [
        "x=pd.get_dummies(x)\n",
        "df=pd.get_dummies(df)"
      ]
    },
    {
      "cell_type": "code",
      "execution_count": null,
      "id": "b6dfba8e",
      "metadata": {
        "id": "b6dfba8e"
      },
      "outputs": [],
      "source": [
        "x_train,x_test,y_train,y_test=train_test_split(x,y,test_size=0.3,random_state=102)"
      ]
    },
    {
      "cell_type": "code",
      "execution_count": null,
      "id": "b04b0f4e",
      "metadata": {
        "id": "b04b0f4e",
        "outputId": "d93d1215-e6cc-4956-818a-01e18c048d07"
      },
      "outputs": [
        {
          "data": {
            "text/plain": [
              "27.62222222222222"
            ]
          },
          "execution_count": 450,
          "metadata": {},
          "output_type": "execute_result"
        }
      ],
      "source": [
        "from sklearn.ensemble import RandomForestClassifier\n",
        "forest=RandomForestClassifier(n_estimators=100)\n",
        "forest.fit(x_train,y_train)\n",
        "\n",
        "#PRINT THE PREDICTION OF THE RANDOM FOREST CLASSIFIER\n",
        "pred_rf=forest.predict(x_test)\n",
        "acc_rf=accuracy_score(y_test,pred_rf)*100\n",
        "acc_rf"
      ]
    },
    {
      "cell_type": "code",
      "execution_count": null,
      "id": "a4c2a573",
      "metadata": {
        "id": "a4c2a573"
      },
      "outputs": [],
      "source": [
        "pred_test=forest.predict(df1)"
      ]
    },
    {
      "cell_type": "code",
      "execution_count": null,
      "id": "010d07b6",
      "metadata": {
        "id": "010d07b6"
      },
      "outputs": [],
      "source": [
        "vehicle_choicecsv=pd.DataFrame({\"CustomerID\":test_original[\"CustomerID\"],\"vehicle_choice\":pred_test})\n",
        "vehicle_choicecsv.set_index(\"CustomerID\", inplace=True)"
      ]
    },
    {
      "cell_type": "code",
      "execution_count": null,
      "id": "a5cc9409",
      "metadata": {
        "id": "a5cc9409",
        "outputId": "e2254601-b2d3-4b0e-a113-7334e613b107"
      },
      "outputs": [
        {
          "data": {
            "text/html": [
              "<div>\n",
              "<style scoped>\n",
              "    .dataframe tbody tr th:only-of-type {\n",
              "        vertical-align: middle;\n",
              "    }\n",
              "\n",
              "    .dataframe tbody tr th {\n",
              "        vertical-align: top;\n",
              "    }\n",
              "\n",
              "    .dataframe thead th {\n",
              "        text-align: right;\n",
              "    }\n",
              "</style>\n",
              "<table border=\"1\" class=\"dataframe\">\n",
              "  <thead>\n",
              "    <tr style=\"text-align: right;\">\n",
              "      <th></th>\n",
              "      <th>vehicle_choice</th>\n",
              "    </tr>\n",
              "    <tr>\n",
              "      <th>CustomerID</th>\n",
              "      <th></th>\n",
              "    </tr>\n",
              "  </thead>\n",
              "  <tbody>\n",
              "    <tr>\n",
              "      <th>CusID_30000</th>\n",
              "      <td>Luxury Sedan</td>\n",
              "    </tr>\n",
              "    <tr>\n",
              "      <th>CusID_30001</th>\n",
              "      <td>Luxury Sedan</td>\n",
              "    </tr>\n",
              "    <tr>\n",
              "      <th>CusID_30002</th>\n",
              "      <td>Pickup-Truck</td>\n",
              "    </tr>\n",
              "    <tr>\n",
              "      <th>CusID_30003</th>\n",
              "      <td>Sports Utility Vehicle</td>\n",
              "    </tr>\n",
              "    <tr>\n",
              "      <th>CusID_30004</th>\n",
              "      <td>Compact Sedan</td>\n",
              "    </tr>\n",
              "    <tr>\n",
              "      <th>...</th>\n",
              "      <td>...</td>\n",
              "    </tr>\n",
              "    <tr>\n",
              "      <th>CusID_34995</th>\n",
              "      <td>Station Wagon</td>\n",
              "    </tr>\n",
              "    <tr>\n",
              "      <th>CusID_34996</th>\n",
              "      <td>Crossover</td>\n",
              "    </tr>\n",
              "    <tr>\n",
              "      <th>CusID_34997</th>\n",
              "      <td>Pickup-Truck</td>\n",
              "    </tr>\n",
              "    <tr>\n",
              "      <th>CusID_34998</th>\n",
              "      <td>Sports Utility Vehicle</td>\n",
              "    </tr>\n",
              "    <tr>\n",
              "      <th>CusID_34999</th>\n",
              "      <td>Crossover</td>\n",
              "    </tr>\n",
              "  </tbody>\n",
              "</table>\n",
              "<p>5000 rows × 1 columns</p>\n",
              "</div>"
            ],
            "text/plain": [
              "                     vehicle_choice\n",
              "CustomerID                         \n",
              "CusID_30000            Luxury Sedan\n",
              "CusID_30001            Luxury Sedan\n",
              "CusID_30002            Pickup-Truck\n",
              "CusID_30003  Sports Utility Vehicle\n",
              "CusID_30004           Compact Sedan\n",
              "...                             ...\n",
              "CusID_34995           Station Wagon\n",
              "CusID_34996               Crossover\n",
              "CusID_34997            Pickup-Truck\n",
              "CusID_34998  Sports Utility Vehicle\n",
              "CusID_34999               Crossover\n",
              "\n",
              "[5000 rows x 1 columns]"
            ]
          },
          "execution_count": 453,
          "metadata": {},
          "output_type": "execute_result"
        }
      ],
      "source": [
        "vehicle_choicecsv"
      ]
    },
    {
      "cell_type": "markdown",
      "source": [
        "**One-Hot Encoding**"
      ],
      "metadata": {
        "id": "dO8dKPMJc5it"
      },
      "id": "dO8dKPMJc5it"
    },
    {
      "cell_type": "code",
      "execution_count": null,
      "id": "cd6365a1",
      "metadata": {
        "id": "cd6365a1"
      },
      "outputs": [],
      "source": []
    },
    {
      "cell_type": "code",
      "execution_count": null,
      "id": "76f01491",
      "metadata": {
        "id": "76f01491"
      },
      "outputs": [],
      "source": []
    },
    {
      "cell_type": "code",
      "execution_count": null,
      "id": "c144b309",
      "metadata": {
        "id": "c144b309"
      },
      "outputs": [],
      "source": []
    }
  ],
  "metadata": {
    "kernelspec": {
      "display_name": "Python 3 (ipykernel)",
      "language": "python",
      "name": "python3"
    },
    "language_info": {
      "codemirror_mode": {
        "name": "ipython",
        "version": 3
      },
      "file_extension": ".py",
      "mimetype": "text/x-python",
      "name": "python",
      "nbconvert_exporter": "python",
      "pygments_lexer": "ipython3",
      "version": "3.9.13"
    },
    "colab": {
      "provenance": []
    }
  },
  "nbformat": 4,
  "nbformat_minor": 5
}