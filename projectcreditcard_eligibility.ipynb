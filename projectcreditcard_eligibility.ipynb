{
  "nbformat": 4,
  "nbformat_minor": 0,
  "metadata": {
    "colab": {
      "private_outputs": true,
      "provenance": [],
      "authorship_tag": "ABX9TyPZxZTv1Jey8UzoNHmHtUrO",
      "include_colab_link": true
    },
    "kernelspec": {
      "name": "python3",
      "display_name": "Python 3"
    },
    "language_info": {
      "name": "python"
    }
  },
  "cells": [
    {
      "cell_type": "markdown",
      "metadata": {
        "id": "view-in-github",
        "colab_type": "text"
      },
      "source": [
        "<a href=\"https://colab.research.google.com/github/DeviArya/DataAnalyticsAssignmentsICT/blob/main/projectcreditcard_eligibility.ipynb\" target=\"_parent\"><img src=\"https://colab.research.google.com/assets/colab-badge.svg\" alt=\"Open In Colab\"/></a>"
      ]
    },
    {
      "cell_type": "markdown",
      "source": [
        "**Importting Libraries**"
      ],
      "metadata": {
        "id": "EbdO25K1uvTS"
      }
    },
    {
      "cell_type": "code",
      "execution_count": null,
      "metadata": {
        "id": "Cv-CyqZntUdi"
      },
      "outputs": [],
      "source": [
        "import warnings\n",
        "warnings.filterwarnings('ignore')\n",
        "\n",
        "import numpy as np\n",
        "import pandas as pd\n",
        "\n",
        "import matplotlib.pyplot as plt\n",
        "import seaborn as sns\n",
        "\n",
        "import plotly.express as px\n",
        "import plotly.graph_objs as go\n",
        "import plotly.figure_factory as ff\n",
        "from plotly.subplots import make_subplots\n",
        "import plotly.offline as pyo\n",
        "from plotly import tools"
      ]
    },
    {
      "cell_type": "markdown",
      "source": [
        "**Loading Dataset**"
      ],
      "metadata": {
        "id": "V4OD801ivBCR"
      }
    },
    {
      "cell_type": "code",
      "source": [
        "from google.colab import drive\n",
        "drive.mount('/content/drive')\n"
      ],
      "metadata": {
        "id": "QnjlFkTevPuQ"
      },
      "execution_count": null,
      "outputs": []
    },
    {
      "cell_type": "code",
      "source": [
        "data = pd.read_csv(\"/content/drive/MyDrive/ICT DATA SCIENCE/Data Analytics Project/Data set/application_record.csv\") \n",
        "record=pd.read_csv(\"/content/drive/MyDrive/ICT DATA SCIENCE/Data Analytics Project/Data set/credit_record.csv\")"
      ],
      "metadata": {
        "id": "cgoj7RSMy2EX"
      },
      "execution_count": null,
      "outputs": []
    },
    {
      "cell_type": "code",
      "source": [
        "print(\"Number of datapoints for application records: {}\".format(len(data)))\n",
        "print(\"Number of unique clients in dataset: {}\".format(len(data.ID.unique())))\n",
        "\n",
        "#Checking first 5 rows of data set\n",
        "data.head()"
      ],
      "metadata": {
        "id": "Ah_gNqovPDY4"
      },
      "execution_count": null,
      "outputs": []
    },
    {
      "cell_type": "markdown",
      "source": [
        "** Unique clients and rows are not equal,which means there are duplicates.**"
      ],
      "metadata": {
        "id": "suu4rzduaeXk"
      }
    },
    {
      "cell_type": "code",
      "source": [
        "print(\"Number of datapoints for credit records: {}\".format(len(record)))\n",
        "print(\"Number of unique clients in dataset: {}\".format(len(record.ID.unique())))\n",
        "record.head()"
      ],
      "metadata": {
        "id": "Iyby-GuCa3UZ"
      },
      "execution_count": null,
      "outputs": []
    },
    {
      "cell_type": "code",
      "source": [
        "len(set(record['ID']).intersection(set(data['ID']))) # checking to see how many records match in two datasets"
      ],
      "metadata": {
        "id": "kmRIaFBUbOMh"
      },
      "execution_count": null,
      "outputs": []
    },
    {
      "cell_type": "markdown",
      "source": [
        "The number of unique ids in the two datasets is not equal. There are fewer customers than applications in the credit record dataset. The intersection is 36,457 customers."
      ],
      "metadata": {
        "id": "ws8aJTvfbWXA"
      }
    },
    {
      "cell_type": "code",
      "source": [
        "#Checking last 5 rows of data set\n",
        "data.tail()"
      ],
      "metadata": {
        "id": "egNaYQI7PYVu"
      },
      "execution_count": null,
      "outputs": []
    },
    {
      "cell_type": "code",
      "source": [
        "record.tail()"
      ],
      "metadata": {
        "id": "-5hEfKVjgNxA"
      },
      "execution_count": null,
      "outputs": []
    },
    {
      "cell_type": "code",
      "source": [
        "#Checking basic information of the dataset\n",
        "data.info()"
      ],
      "metadata": {
        "id": "Mh5dr-PcPbJs"
      },
      "execution_count": null,
      "outputs": []
    },
    {
      "cell_type": "code",
      "source": [
        "record.info()"
      ],
      "metadata": {
        "id": "1uSfYeNfgd93"
      },
      "execution_count": null,
      "outputs": []
    },
    {
      "cell_type": "markdown",
      "source": [
        "*OCCUPATION_TYPE is the only column that have 134203 null values*"
      ],
      "metadata": {
        "id": "luRtkdm2SCNK"
      }
    },
    {
      "cell_type": "code",
      "source": [
        "#Checking column names of data set\n",
        "data.columns"
      ],
      "metadata": {
        "id": "awd4O11JQH4B"
      },
      "execution_count": null,
      "outputs": []
    },
    {
      "cell_type": "code",
      "source": [
        "record.columns"
      ],
      "metadata": {
        "id": "jX2hwXEkgkZx"
      },
      "execution_count": null,
      "outputs": []
    },
    {
      "cell_type": "code",
      "source": [
        "#Checking mathematical relationship of dataset\n",
        "data.describe()"
      ],
      "metadata": {
        "id": "F2BgjlJaQmWI"
      },
      "execution_count": null,
      "outputs": []
    },
    {
      "cell_type": "code",
      "source": [
        "record.describe()"
      ],
      "metadata": {
        "id": "A8R-ixZWgrNh"
      },
      "execution_count": null,
      "outputs": []
    },
    {
      "cell_type": "markdown",
      "source": [
        "#discribing column heading in data dataset\n",
        "\t\t1. ID / unique customer id\n",
        "\t\t2. CODE_GENDER / gender(M/F)\n",
        "\t\t3. FLAG_OWN_CAR / own car(Y/N)\n",
        "\t\t4. FLAG_OWN_REALTY / own property \n",
        "\t\t5. CNT_CHILDREN / No. of children \n",
        "\t\t6. AMT_INCOME_TOTAL / total income\n",
        "\t\t7. NAME_INCOME_TYPE / employment type\n",
        "\t\t8. NAME_EDUCATION_TYPE / level of education\n",
        "\t\t9. NAME_FAMILY_STATUS / marital status\n",
        "\t\t10. NAME_HOUSING_TYPE / type of house\n",
        "\t\t11. DAYS_BIRTH / DOB\n",
        "\t\t12. DAYS_EMPLOYED / employment tenure/ experience \n",
        "\t\t13. FLAG_MOBIL / Own mobile availability\n",
        "\t\t14. FLAG_WORK_PHONE / work phone availability\n",
        "\t\t15. FLAG_PHONE / phone availability \n",
        "\t\t16. FLAG_EMAIL / email availability \n",
        "\t\t17. OCCUPATION_TYPE / occupation type\n",
        "\t\t18. CNT_FAM_MEMBERS / No. of family members \n",
        "\n",
        "#discribing column heading in record data set\n",
        "    1. ID / coustomer id\n",
        "    2. MONTHS_BALANCE /account balence \n",
        "    3. STATUS "
      ],
      "metadata": {
        "id": "zGsysX86Yebe"
      }
    },
    {
      "cell_type": "markdown",
      "source": [
        "## Missing Values"
      ],
      "metadata": {
        "id": "k-roljrgcfk7"
      }
    },
    {
      "cell_type": "code",
      "source": [
        "import missingno as msno"
      ],
      "metadata": {
        "id": "2SL4xa0VRPlv"
      },
      "execution_count": null,
      "outputs": []
    },
    {
      "cell_type": "code",
      "source": [
        "plt_missing_1 = msno.matrix(data)\n",
        "plt_missing_1.set_title(\"Missing Data for application records dataset\",fontsize=20)"
      ],
      "metadata": {
        "id": "STIWbIW0dO32"
      },
      "execution_count": null,
      "outputs": []
    },
    {
      "cell_type": "code",
      "source": [
        "plt_missing_2 = msno.matrix(record)\n",
        "\n",
        "plt_missing_2.set_title(\"Missing Data for credit records dataset\",fontsize=20)"
      ],
      "metadata": {
        "id": "Km3hNXjkd9tf"
      },
      "execution_count": null,
      "outputs": []
    },
    {
      "cell_type": "code",
      "source": [
        "unique_counts = pd.DataFrame.from_records([(col, data[col].nunique()) for col in data.columns],\n",
        "                          columns=['Column_Name', 'Num_Unique']) # finding unique values in each column\n",
        "unique_counts"
      ],
      "metadata": {
        "id": "cbrYWxFjekad"
      },
      "execution_count": null,
      "outputs": []
    },
    {
      "cell_type": "code",
      "source": [
        "unique_counts = pd.DataFrame.from_records([(col, record[col].nunique()) for col in record.columns],\n",
        "                          columns=['Column_Name', 'Num_Unique'])\n",
        "unique_counts"
      ],
      "metadata": {
        "id": "n-U20h7xf6ur"
      },
      "execution_count": null,
      "outputs": []
    },
    {
      "cell_type": "markdown",
      "source": [
        "***Data Visualization***"
      ],
      "metadata": {
        "id": "bkjD-22EjWTs"
      }
    },
    {
      "cell_type": "code",
      "source": [
        "#visualization libraries\n",
        "import matplotlib.pyplot as plt\n",
        "import seaborn as sns\n",
        "import random"
      ],
      "metadata": {
        "id": "F6gQ7Bi0jg93"
      },
      "execution_count": null,
      "outputs": []
    },
    {
      "cell_type": "code",
      "source": [
        "\n",
        "def draw_histograms(data, variables, n_rows, n_cols):\n",
        "    fig=plt.figure()\n",
        "    for i, var_name in enumerate(variables):\n",
        "        ax=fig.add_subplot(n_rows,n_cols,i+1)\n",
        "        data[var_name].hist(bins=10,ax=ax,color='#cd1075',edgecolor='black',linewidth=1.2)\n",
        "        ax.set_title(var_name+\" Distribution\")\n",
        "    fig.tight_layout()  # Improves appearance a bit.\n",
        "    plt.show()\n",
        "\n",
        "test = data[[\"CNT_CHILDREN\",\"AMT_INCOME_TOTAL\",\"DAYS_BIRTH\",\"DAYS_EMPLOYED\"]]\n",
        "draw_histograms(test, test.columns, 2, 2)"
      ],
      "metadata": {
        "id": "HvC7AuoHuMMJ"
      },
      "execution_count": null,
      "outputs": []
    },
    {
      "cell_type": "code",
      "source": [
        "def draw_boxplot(data, variables, n_rows, n_cols):\n",
        "    fig=plt.figure()\n",
        "    for i, var_name in enumerate(variables):\n",
        "        ax=fig.add_subplot(n_rows,n_cols,i+1)\n",
        "        sns.boxplot(data[var_name])\n",
        "        ax.set_title(var_name+\" Distribution\")\n",
        "    fig.tight_layout()  # Improves appearance a bit.\n",
        "    plt.show()\n",
        "\n",
        "test = data[[\"CNT_CHILDREN\",\"AMT_INCOME_TOTAL\",\"DAYS_BIRTH\",\"DAYS_EMPLOYED\"]]\n",
        "draw_boxplot(test, test.columns, 2, 2)"
      ],
      "metadata": {
        "id": "iK4EM6A5Fwyu"
      },
      "execution_count": null,
      "outputs": []
    },
    {
      "cell_type": "markdown",
      "source": [
        "There are outliers in 2 columns.\n",
        "\n",
        "CNT_CHILDREN\n",
        "\n",
        "AMT_INCOME_TOTAL"
      ],
      "metadata": {
        "id": "GCAEdE3tzciw"
      }
    },
    {
      "cell_type": "code",
      "source": [
        "#heatmap_dataset=data[[\"CNT_CHILDREN\",\"AMT_INCOME_TOTAL\",\"DAYS_BIRTH\",\"DAYS_EMPLOYED\"]]\n",
        "#sns.heatmap(heatmap_dataset, cmap='YlGnBu')"
      ],
      "metadata": {
        "id": "Wwvk4mEJNxoA"
      },
      "execution_count": null,
      "outputs": []
    },
    {
      "cell_type": "code",
      "source": [
        "fig, axes = plt.subplots(1,2)\n",
        "\n",
        "g1= sns.countplot(y=data.NAME_HOUSING_TYPE,linewidth=1.2, ax=axes[0])\n",
        "g1.set_title(\"Customer Distribution by Housing Type\")\n",
        "g1.set_xlabel(\"Count\")\n",
        "g1.set_ylabel(\"Housing Type\")\n",
        "\n",
        "g2= sns.countplot(y=data.NAME_EDUCATION_TYPE, ax=axes[1])\n",
        "g2.set_title(\"Customer Distribution by Education\")\n",
        "g2.set_xlabel(\"Count\")\n",
        "g2.set_ylabel(\"Education Type\")\n",
        "\n",
        "fig.set_size_inches(14,5)\n",
        "\n",
        "plt.tight_layout()\n",
        "\n",
        "plt.show()"
      ],
      "metadata": {
        "id": "0Ow15kR1kRWp"
      },
      "execution_count": null,
      "outputs": []
    },
    {
      "cell_type": "code",
      "source": [
        "fig, axes = plt.subplots(1,3)\n",
        "\n",
        "g1= data['CODE_GENDER'].value_counts().plot.pie(ax=axes[0],explode = [0.1,0.1],autopct='%1.1f%%')\n",
        "g1.set_title(\"Customer Distribution by Gender\")\n",
        "\n",
        "g2= data['FLAG_OWN_CAR'].value_counts().plot.pie(ax=axes[1],explode = [0.1,0.1],autopct='%1.1f%%')\n",
        "g2.set_title(\"Car Ownership\")\n",
        "\n",
        "g3= data['FLAG_OWN_REALTY'].value_counts().plot.pie(ax=axes[2],explode = [0.1,0.1],autopct='%1.1f%%')\n",
        "g3.set_title(\"Realty Ownership\")\n",
        "\n",
        "fig.set_size_inches(14,5)\n",
        "\n",
        "plt.tight_layout()\n",
        "\n",
        "plt.show()"
      ],
      "metadata": {
        "id": "7UsQqoNOz_pO"
      },
      "execution_count": null,
      "outputs": []
    },
    {
      "cell_type": "markdown",
      "source": [],
      "metadata": {
        "id": "TfhOgT1nXjlG"
      }
    },
    {
      "cell_type": "markdown",
      "source": [
        "# **3 - Data Preprocessing & Feature Engineering**"
      ],
      "metadata": {
        "id": "5kPCqfBY4gLt"
      }
    },
    {
      "cell_type": "code",
      "source": [
        "#remove duplicate values and keep the last entry of the ID if its repeated.\n",
        "data=data.drop_duplicates('ID', keep='last')\n",
        "#the occupation type has missing values, we dropped them.\n",
        "data.drop('OCCUPATION_TYPE', axis=1, inplace=True) "
      ],
      "metadata": {
        "id": "ys5E1oEj4qz5"
      },
      "execution_count": null,
      "outputs": []
    },
    {
      "cell_type": "code",
      "source": [
        "#object columns in dataset\n",
        "object_columns = data.columns[data.dtypes =='object'].tolist() \n",
        "unique_counts = pd.DataFrame.from_records([(col, data[object_columns][col].nunique()) for col in data[object_columns].columns],\n",
        "                          columns=['Column_Name', 'Num_Unique']).sort_values(by=['Num_Unique'])\n",
        "\n",
        "unique_counts #unique counts for object columns "
      ],
      "metadata": {
        "id": "CEPnvXFC6wIj"
      },
      "execution_count": null,
      "outputs": []
    },
    {
      "cell_type": "markdown",
      "source": [
        "We have filtered the columns that have non numeric values to see if they are useful. We will convert them numeric."
      ],
      "metadata": {
        "id": "-XOhKByW8ZSn"
      }
    },
    {
      "cell_type": "code",
      "source": [
        "#renaming columns\n",
        "\n",
        "data.rename(columns={\"CODE_GENDER\":\"Gender\",\"FLAG_OWN_CAR\":\"Own_Car\",\"FLAG_OWN_REALTY\":\"Own_Realty\",\n",
        "                     \"CNT_CHILDREN\":\"Children_Count\",\"AMT_INCOME_TOTAL\":\"Income\",\"NAME_EDUCATION_TYPE\":\"Education\",\n",
        "                     \"NAME_FAMILY_STATUS\":\"Family_Status\",\"NAME_HOUSING_TYPE\":\"Housing_Type\",\"DAYS_BIRTH\":\"Birthday\",\n",
        "                     \"DAYS_EMPLOYED\":\"Employment_Date\",\"FLAG_MOBIL\":\"Own_Mobile\",\"FLAG_WORK_PHONE\":\"Own_Work_Phone\",\n",
        "                     \"FLAG_PHONE\":\"Own_Phone\",\"FLAG_EMAIL\":\"Own_Email\",\"CNT_FAM_MEMBERS\":\"Family_Member_Count\",\n",
        "                    \"NAME_INCOME_TYPE\":\"Income_Type\"},inplace=True)"
      ],
      "metadata": {
        "id": "JPn7XwiE8bHb"
      },
      "execution_count": null,
      "outputs": []
    },
    {
      "cell_type": "code",
      "source": [
        "#merge to record data\n",
        "open_month=pd.DataFrame(record.groupby([\"ID\"])[\"MONTHS_BALANCE\"].agg(min))\n",
        "open_month=open_month.rename(columns={'MONTHS_BALANCE':'begin_month'}) \n",
        "customer_data=pd.merge(data,open_month,how=\"left\",on=\"ID\")"
      ],
      "metadata": {
        "id": "xxyEmbuY83AB"
      },
      "execution_count": null,
      "outputs": []
    },
    {
      "cell_type": "code",
      "source": [
        "customer_data.head()"
      ],
      "metadata": {
        "id": "NWRMQBeOc2V8"
      },
      "execution_count": null,
      "outputs": []
    },
    {
      "cell_type": "code",
      "source": [
        "#converting categoric features into numeric\n",
        "customer_data[\"Gender\"] =  customer_data['Gender'].replace(['F','M'],[0,1])\n",
        "customer_data[\"Own_Car\"] = customer_data[\"Own_Car\"].replace([\"Y\",\"N\"],[1,0])\n",
        "customer_data[\"Own_Realty\"] = customer_data[\"Own_Realty\"].replace([\"Y\",\"N\"],[1,0])\n",
        "customer_data[\"Is_Working\"] = customer_data[\"Income_Type\"].replace([\"Working\",\"Commercial associate\",\"State servant\",\"Pensioner\",\"Student\"],[1,1,1,0,0])\n",
        "\n",
        "customer_data[\"In_Relationship\"] = customer_data[\"Family_Status\"].replace([\"Civil marriage\",\"Married\",\"Single / not married\",\n",
        "                                                                          \"Separated\",\"Widow\"],[1,1,0,0,0])\n",
        "\n",
        "housing_type = {'House / apartment' : 'House / apartment',\n",
        "                   'With parents': 'With parents',\n",
        "                    'Municipal apartment' : 'House / apartment',\n",
        "                    'Rented apartment': 'House / apartment',\n",
        "                    'Office apartment': 'House / apartment',\n",
        "                    'Co-op apartment': 'House / apartment'}\n",
        "\n",
        "customer_data[\"Housing_Type\"] = customer_data['Housing_Type'].map(housing_type)\n",
        "\n",
        "family_status = {'Single / not married':'Single',\n",
        "                     'Separated':'Single',\n",
        "                     'Widow':'Single',\n",
        "                     'Civil marriage':'Married',\n",
        "                    'Married':'Married'}\n",
        "\n",
        "customer_data[\"Family_Status\"] = customer_data[\"Family_Status\"].map(family_status)\n",
        "\n",
        "education_type = {'Secondary / secondary special':'secondary',\n",
        "                     'Lower secondary':'secondary',\n",
        "                     'Higher education':'Higher education',\n",
        "                     'Incomplete higher':'Higher education',\n",
        "                     'Academic degree':'Academic degree'}\n",
        "\n",
        "customer_data[\"Education\"] = customer_data[\"Education\"].map(education_type)\n",
        "\n",
        "income_type = {'Commercial associate':'Working',\n",
        "                  'State servant':'Working',\n",
        "                  'Working':'Working',\n",
        "                  'Pensioner':'Pensioner',\n",
        "                  'Student':'Student'}\n",
        "\n",
        "customer_data[\"Income_Type\"] = customer_data[\"Income_Type\"].map(income_type)\n",
        "\n",
        "customer_data[\"Household_Size\"] = customer_data[\"Children_Count\"] + customer_data[\"In_Relationship\"].apply(lambda x: 2 if x==1 else 1)\n",
        "\n",
        "customer_data[\"Age\"] = round((customer_data.Birthday/365)*-1)\n",
        "\n",
        "customer_data[\"Experience\"] = customer_data.Employment_Date/365\n",
        "customer_data['Experience']=customer_data['Experience'].apply(lambda v : int(v*-1) if v <0 else 0)\n",
        "\n",
        "customer_data=customer_data.drop(columns=['Employment_Date','Birthday','Children_Count'])\n",
        "\n",
        "customer_data= pd.get_dummies(customer_data, columns=['Income_Type', 'Education','Family_Status',\"Housing_Type\"])"
      ],
      "metadata": {
        "id": "Q4LhbVX-cawG"
      },
      "execution_count": null,
      "outputs": []
    },
    {
      "cell_type": "code",
      "source": [
        "customer_data.head()"
      ],
      "metadata": {
        "id": "PSjH_eSKcmgr"
      },
      "execution_count": null,
      "outputs": []
    },
    {
      "cell_type": "code",
      "source": [
        "print(customer_data.shape)\n",
        "print(customer_data.columns)\n",
        "print(' mean of Incomes :\\n----------------\\n',customer_data['Income'].describe())\n",
        "print(customer_data['Income'].skew())\n",
        "print(' mean of Age :\\n----------------\\n',customer_data['Age'].describe())\n",
        "print(customer_data['Age'].skew())"
      ],
      "metadata": {
        "id": "CJnDlADyXyA_"
      },
      "execution_count": null,
      "outputs": []
    },
    {
      "cell_type": "markdown",
      "source": [
        "Income follows a heighly skewd distribution"
      ],
      "metadata": {
        "id": "BBtak6-WX3jX"
      }
    },
    {
      "cell_type": "markdown",
      "source": [
        "**We will look at numeric columns to see if there is anything that needs to be changed.**"
      ],
      "metadata": {
        "id": "qgWJBGbArfmk"
      }
    },
    {
      "cell_type": "code",
      "source": [
        "other_numerical_cols = [\"Income\",\"Age\",\"Experience\",\"Household_Size\"]\n",
        "\n",
        "fig = make_subplots(rows=2, cols=2, start_cell=\"bottom-left\",\n",
        "                   subplot_titles=(\"Income\", \"Age\", \"Experience\", \"Family Member Count\"))\n",
        "\n",
        "fig.add_trace(go.Box(x=customer_data.Income, name='Income',boxmean=True),row=1,col=1)\n",
        "fig.add_trace(go.Box(x=customer_data.Age, name='Age', boxmean=True), row=1, col=2)\n",
        "fig.add_trace(go.Box(x=customer_data.Experience, name='Experience', boxmean=True), row=2, col=1)\n",
        "fig.add_trace(go.Box(x=customer_data.Household_Size, name=\"Family Member Count\", boxmean=True),row=2, col=2)\n",
        "\n",
        "fig.show()\n",
        "\n"
      ],
      "metadata": {
        "id": "lPqE3nL_reFX"
      },
      "execution_count": null,
      "outputs": []
    },
    {
      "cell_type": "markdown",
      "source": [
        "As seen above, there are some outliers values in children count, family member count, income and employment rate columns\n",
        "\n",
        "We need to remove these outliers to make sure they do not affect our model results.\n",
        "We will now remove these outliers by using z scores."
      ],
      "metadata": {
        "id": "rHCDNxgSh9Db"
      }
    },
    {
      "cell_type": "code",
      "source": [
        "def calculate_z_scores(df, cols):\n",
        "    for col in cols:\n",
        "        df[col+\"_z_score\"] = (df[col] - df[col].mean())/df[col].std()\n",
        "    return df\n",
        "\n",
        "df_2 = calculate_z_scores(df = customer_data, cols = [\"Income\",\"Experience\",\"Household_Size\"])\n",
        "\n",
        "\n",
        "#removing outliers\n",
        "filter_2 = df_2.Household_Size_z_score.abs() <= 3.5\n",
        "filter_3 = df_2.Experience_z_score.abs() <= 3.5\n",
        "filter_4 = df_2.Income_z_score.abs() <= 3.5\n",
        "\n",
        "customer_apps = df_2[filter_2 & filter_3 & filter_4]\n",
        "\n",
        "customer_apps.drop(columns= [\"Income_z_score\",\"Experience_z_score\",\"Household_Size_z_score\"],inplace=True)"
      ],
      "metadata": {
        "id": "qDQxQ20H-7iB"
      },
      "execution_count": null,
      "outputs": []
    },
    {
      "cell_type": "code",
      "source": [
        "other_numerical_cols = [\"Income\",\"Age\",\"Experience\",\"Family_Member_Count\"]\n",
        "\n",
        "fig = make_subplots(rows=2, cols=2, start_cell=\"bottom-left\",\n",
        "                   subplot_titles=(\"Income\", \"Age\", \"Experience\", \"Family Member Count\"))\n",
        "\n",
        "fig.add_trace(go.Box(x=customer_apps.Income, name='Income',boxmean=True),row=1,col=1)\n",
        "fig.add_trace(go.Box(x=customer_apps.Age, name='Age', boxmean=True), row=1, col=2)\n",
        "fig.add_trace(go.Box(x=customer_apps.Experience, name='Experience', boxmean=True), row=2, col=1)\n",
        "fig.add_trace(go.Box(x=customer_apps.Household_Size, name=\"Family Member Count\", boxmean=True),row=2, col=2)\n",
        "\n",
        "fig.show()"
      ],
      "metadata": {
        "id": "llhn0ouyXPrd"
      },
      "execution_count": null,
      "outputs": []
    }
  ]
}