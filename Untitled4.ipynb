{
  "nbformat": 4,
  "nbformat_minor": 0,
  "metadata": {
    "colab": {
      "private_outputs": true,
      "provenance": [],
      "authorship_tag": "ABX9TyNVb/qE0Iem1DCFwhdivSIo",
      "include_colab_link": true
    },
    "kernelspec": {
      "name": "python3",
      "display_name": "Python 3"
    },
    "language_info": {
      "name": "python"
    }
  },
  "cells": [
    {
      "cell_type": "markdown",
      "metadata": {
        "id": "view-in-github",
        "colab_type": "text"
      },
      "source": [
        "<a href=\"https://colab.research.google.com/github/DeviArya/DataAnalyticsAssignmentsICT/blob/main/Untitled4.ipynb\" target=\"_parent\"><img src=\"https://colab.research.google.com/assets/colab-badge.svg\" alt=\"Open In Colab\"/></a>"
      ]
    },
    {
      "cell_type": "code",
      "execution_count": null,
      "metadata": {
        "id": "qGhUK9RVKKay"
      },
      "outputs": [],
      "source": [
        "import pandas as pd\n",
        "import numpy as np\n",
        "import matplotlib.pyplot as plt\n",
        "import seaborn as sns\n",
        "df1 = pd.read_csv(\"/content/titanic_dataset.csv\")\n",
        "df1.head()"
      ]
    },
    {
      "cell_type": "code",
      "source": [
        "df1['Name'].value_counts()"
      ],
      "metadata": {
        "id": "Esx81kkXRWEH"
      },
      "execution_count": null,
      "outputs": []
    },
    {
      "cell_type": "code",
      "source": [
        "df1.isna().sum()"
      ],
      "metadata": {
        "id": "IK5QiDB_RZRj"
      },
      "execution_count": null,
      "outputs": []
    },
    {
      "cell_type": "code",
      "source": [
        "df=df1"
      ],
      "metadata": {
        "id": "cQpFXZu7UPLy"
      },
      "execution_count": null,
      "outputs": []
    },
    {
      "cell_type": "code",
      "source": [
        "df = df.drop('Embarked',axis=1)\n",
        "df = df.drop('Age',axis=1)\n",
        "df.isna().sum()"
      ],
      "metadata": {
        "id": "8EUN91ayRbq-"
      },
      "execution_count": null,
      "outputs": []
    },
    {
      "cell_type": "code",
      "source": [
        "from sklearn.impute import SimpleImputer\n",
        "imputer1 = SimpleImputer(missing_values=np.nan, strategy='most_frequent')\n",
        "num_columns1 =df1[[  'Embarked' ]]\n",
        "num_columns =df1[[  'Age' ]]\n",
        "imputer1 = imputer1.fit(num_columns1)\n",
        "num_columns1 = imputer1.transform(num_columns1)\n",
        "num_columns1 = pd.DataFrame(num_columns1,columns= [ 'Embarked'])\n",
        "\n",
        "\n",
        "\n",
        "\n",
        "imputer = SimpleImputer(missing_values=np.nan, strategy='median')\n",
        "imputer = imputer.fit(num_columns)\n",
        "num_columns = imputer.transform(num_columns)\n",
        "num_columns = pd.DataFrame(num_columns,columns= [ 'Age'])\n",
        "num_columns\n",
        "\n",
        "df = pd.concat([num_columns, df], axis =1)\n",
        "df = pd.concat([num_columns1, df], axis =1)\n",
        "df.isna().sum()"
      ],
      "metadata": {
        "id": "KDmavYzVRnIm"
      },
      "execution_count": null,
      "outputs": []
    },
    {
      "cell_type": "code",
      "source": [
        "df = df.drop('Cabin',axis=1)\n",
        "df = df.drop('PassengerId',axis=1)\n",
        "df = df.drop('Name',axis=1)\n",
        "df = df.drop('Ticket',axis=1)\n",
        "df"
      ],
      "metadata": {
        "id": "qRzg4XyHRrMV"
      },
      "execution_count": null,
      "outputs": []
    },
    {
      "cell_type": "code",
      "source": [
        "df.isna().sum()"
      ],
      "metadata": {
        "id": "N1hmOfwPRuri"
      },
      "execution_count": null,
      "outputs": []
    },
    {
      "cell_type": "code",
      "source": [
        "from sklearn.preprocessing import LabelEncoder\n",
        "label_encoder = LabelEncoder()\n",
        "\n",
        "df['Sex'] = label_encoder.fit_transform(df['Sex'])\n",
        "df['Embarked'] = label_encoder.fit_transform(df['Embarked'])\n",
        "df"
      ],
      "metadata": {
        "id": "ClrtEpinRzfZ"
      },
      "execution_count": null,
      "outputs": []
    },
    {
      "cell_type": "code",
      "source": [
        "y = df['Survived']\n",
        "x = df.drop(['Survived',], axis =1)\n",
        "from sklearn.model_selection import train_test_split\n",
        "x_train,x_test,y_train,y_test = train_test_split(x,y,random_state=42, test_size =0.20)\n"
      ],
      "metadata": {
        "id": "rF2FSrs0R3yM"
      },
      "execution_count": null,
      "outputs": []
    },
    {
      "cell_type": "code",
      "source": [
        "from sklearn.linear_model import LogisticRegression\n",
        "logistic_regression =LogisticRegression()\n",
        "model = logistic_regression.fit(x_train,y_train)"
      ],
      "metadata": {
        "id": "DMvJ-w5fR-Xm"
      },
      "execution_count": null,
      "outputs": []
    },
    {
      "cell_type": "code",
      "source": [
        "prediction = model.predict(x_test)\n",
        "from sklearn.metrics import confusion_matrix,accuracy_score,precision_score,recall_score,f1_score\n",
        "print('accuracy_score=:',accuracy_score(y_test,prediction))\n",
        "print('precision_score=:',precision_score(y_test,prediction))\n",
        "print('recall_score=:',recall_score(y_test,prediction))\n",
        "print('f1_score=:',f1_score(y_test,prediction))"
      ],
      "metadata": {
        "id": "_AJOMV8tSC7z"
      },
      "execution_count": null,
      "outputs": []
    },
    {
      "cell_type": "code",
      "source": [
        "from sklearn.neighbors import KNeighborsClassifier\n",
        "metric_k = []\n",
        "neighbors = np.arange(3,15)"
      ],
      "metadata": {
        "id": "9hkt25FPSHR7"
      },
      "execution_count": null,
      "outputs": []
    },
    {
      "cell_type": "code",
      "source": [
        "for k in neighbors:\n",
        "    classifier =KNeighborsClassifier(n_neighbors = k ,metric ='euclidean')\n",
        "    classifier.fit(x_train,y_train)\n",
        "    y_prediction = classifier.predict(x_test)\n",
        "    acc = accuracy_score(y_test, y_prediction)\n",
        "    metric_k.append(acc)\n",
        "\n",
        "metric_k"
      ],
      "metadata": {
        "id": "SV29-j-eSJoL"
      },
      "execution_count": null,
      "outputs": []
    },
    {
      "cell_type": "code",
      "source": [
        "plt.plot(neighbors,metric_k,'o-')\n",
        "plt.xlabel(\"K-Value\")\n",
        "plt.xlabel(\"acc-Value\")\n",
        "plt.grid()"
      ],
      "metadata": {
        "id": "U7f0wkbZSN58"
      },
      "execution_count": null,
      "outputs": []
    },
    {
      "cell_type": "code",
      "source": [
        "classifier =KNeighborsClassifier(n_neighbors = 13 ,metric ='euclidean')\n",
        "classifier.fit(x_train,y_train)\n",
        "y_prediction = classifier.predict(x_test)\n",
        "acc = accuracy_score(y_test, y_prediction)\n",
        "metric_k.append(acc)\n",
        "print('accuracy_score=:',accuracy_score(y_test,y_prediction))\n",
        "print('precision_score=:',precision_score(y_test,y_prediction))\n",
        "print('recall_score=:',recall_score(y_test,y_prediction))\n",
        "print('f1_score=:',f1_score(y_test,y_prediction))"
      ],
      "metadata": {
        "id": "owwez6L4SRUL"
      },
      "execution_count": null,
      "outputs": []
    },
    {
      "cell_type": "code",
      "source": [
        "from sklearn.svm import SVC\n",
        "svm_class = SVC(kernel='linear')\n",
        "svm_class = svm_class.fit(x_train,y_train)\n",
        "svm_class\n",
        "prediction = svm_class.predict(x_test)\n",
        "from sklearn.metrics import confusion_matrix,accuracy_score,precision_score,recall_score,f1_score\n",
        "print('accuracy_score=:',accuracy_score(y_test,prediction))"
      ],
      "metadata": {
        "id": "UtQKmIlpSVZ0"
      },
      "execution_count": null,
      "outputs": []
    },
    {
      "cell_type": "code",
      "source": [
        "from sklearn.tree import DecisionTreeClassifier\n",
        "dt = DecisionTreeClassifier()\n",
        "dt =dt.fit(x_train,y_train)\n",
        "prediction = dt.predict(x_test)\n",
        "from sklearn.metrics import confusion_matrix,accuracy_score,precision_score,recall_score,f1_score\n",
        "print('accuracy_score=:',accuracy_score(y_test,prediction))"
      ],
      "metadata": {
        "id": "Cxxi_lqjSZW2"
      },
      "execution_count": null,
      "outputs": []
    },
    {
      "cell_type": "code",
      "source": [
        "from sklearn.ensemble import RandomForestClassifier\n",
        "dt = RandomForestClassifier()\n",
        "dt =dt.fit(x_train,y_train)\n",
        "prediction = dt.predict(x_test)\n",
        "from sklearn.metrics import confusion_matrix,accuracy_score,precision_score,recall_score,f1_score\n",
        "print('accuracy_score=:',accuracy_score(y_test,prediction))"
      ],
      "metadata": {
        "id": "D_7uvzKESdeS"
      },
      "execution_count": null,
      "outputs": []
    },
    {
      "cell_type": "code",
      "source": [
        "from sklearn.model_selection import KFold\n",
        "kfold_val = KFold(10)"
      ],
      "metadata": {
        "id": "s_U_S7lrSiTq"
      },
      "execution_count": null,
      "outputs": []
    },
    {
      "cell_type": "code",
      "source": [
        "for train_index,test_index in kfold_val.split(x,y):\n",
        "    print('TRaining Index -',train_index)\n",
        "    print('Validation Index -',test_index)"
      ],
      "metadata": {
        "id": "pJLRuKBzSmeX"
      },
      "execution_count": null,
      "outputs": []
    },
    {
      "cell_type": "code",
      "source": [
        "from sklearn.model_selection import cross_val_score\n",
        "cv_result = cross_val_score(model,x,y,cv=kfold_val)"
      ],
      "metadata": {
        "id": "3zImOJb0S1BW"
      },
      "execution_count": null,
      "outputs": []
    },
    {
      "cell_type": "code",
      "source": [
        "cv_result"
      ],
      "metadata": {
        "id": "B0CJ5Z-MS10J"
      },
      "execution_count": null,
      "outputs": []
    },
    {
      "cell_type": "code",
      "source": [
        "np.mean(cv_result)"
      ],
      "metadata": {
        "id": "CJOoMWF5S6ZF"
      },
      "execution_count": null,
      "outputs": []
    },
    {
      "cell_type": "code",
      "source": [
        "from sklearn.model_selection import StratifiedKFold\n",
        "sfold_val = StratifiedKFold(n_splits=10)"
      ],
      "metadata": {
        "id": "tGIlFqDES9vs"
      },
      "execution_count": null,
      "outputs": []
    },
    {
      "cell_type": "code",
      "source": [
        "for train_index,test_index in sfold_val.split(x,y):\n",
        "    print('TRaining Index -',train_index)\n",
        "    print('Validation Index -',test_index)"
      ],
      "metadata": {
        "id": "jviWfuOlTBXI"
      },
      "execution_count": null,
      "outputs": []
    },
    {
      "cell_type": "code",
      "source": [
        "skv_result = cross_val_score(model,x,y,cv=sfold_val)\n",
        "skv_result"
      ],
      "metadata": {
        "id": "u0CSvAGDTHJs"
      },
      "execution_count": null,
      "outputs": []
    },
    {
      "cell_type": "code",
      "source": [
        "np.mean(skv_result)"
      ],
      "metadata": {
        "id": "AkIDXSfCTK8_"
      },
      "execution_count": null,
      "outputs": []
    }
  ]
}