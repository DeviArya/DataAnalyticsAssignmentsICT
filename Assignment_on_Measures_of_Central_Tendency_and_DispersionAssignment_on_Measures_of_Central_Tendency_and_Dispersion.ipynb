{
  "nbformat": 4,
  "nbformat_minor": 0,
  "metadata": {
    "colab": {
      "private_outputs": true,
      "provenance": [],
      "authorship_tag": "ABX9TyMlkpuAkMTI2JGzaPQi0F0C",
      "include_colab_link": true
    },
    "kernelspec": {
      "name": "python3",
      "display_name": "Python 3"
    },
    "language_info": {
      "name": "python"
    }
  },
  "cells": [
    {
      "cell_type": "markdown",
      "metadata": {
        "id": "view-in-github",
        "colab_type": "text"
      },
      "source": [
        "<a href=\"https://colab.research.google.com/github/DeviArya/DataAnalyticsAssignmentsICT/blob/main/Assignment_on_Measures_of_Central_Tendency_and_DispersionAssignment_on_Measures_of_Central_Tendency_and_Dispersion.ipynb\" target=\"_parent\"><img src=\"https://colab.research.google.com/assets/colab-badge.svg\" alt=\"Open In Colab\"/></a>"
      ]
    },
    {
      "cell_type": "code",
      "execution_count": null,
      "metadata": {
        "id": "Hx34ZKKQf2HP"
      },
      "outputs": [],
      "source": [
        "import pandas as pd\n",
        "import numpy as np\n",
        "import matplotlib.pyplot as plt\n",
        "import seaborn as sns\n",
        "df=pd.read_csv('/content/StudentsPerformance.csv')"
      ]
    },
    {
      "cell_type": "code",
      "source": [
        "df.head()"
      ],
      "metadata": {
        "id": "yR8r42rjg9bV"
      },
      "execution_count": null,
      "outputs": []
    },
    {
      "cell_type": "code",
      "source": [
        "df.describe()"
      ],
      "metadata": {
        "id": "A3FpPbIxgtCr"
      },
      "execution_count": null,
      "outputs": []
    },
    {
      "cell_type": "code",
      "source": [
        "df.info()"
      ],
      "metadata": {
        "id": "2Zh6SkMbhWD7"
      },
      "execution_count": null,
      "outputs": []
    },
    {
      "cell_type": "code",
      "source": [
        "df['gender'].unique()"
      ],
      "metadata": {
        "id": "jpduNlmPhlGe"
      },
      "execution_count": null,
      "outputs": []
    },
    {
      "cell_type": "markdown",
      "source": [
        "1. Find out how many males and females participated in the test.\n"
      ],
      "metadata": {
        "id": "Ky9H1Luaimv7"
      }
    },
    {
      "cell_type": "code",
      "source": [
        "df['gender'].value_counts()"
      ],
      "metadata": {
        "id": "4zzTJNnTijr9"
      },
      "execution_count": null,
      "outputs": []
    },
    {
      "cell_type": "markdown",
      "source": [
        "2. What do you think about the students' parental level of education?\n"
      ],
      "metadata": {
        "id": "DiJGq5DvjPio"
      }
    },
    {
      "cell_type": "code",
      "source": [
        "parental_level_of_education=df['parental level of education'].value_counts()\n",
        "parental_level_of_education"
      ],
      "metadata": {
        "id": "ensVCPebjDt-"
      },
      "execution_count": null,
      "outputs": []
    },
    {
      "cell_type": "code",
      "source": [
        "parental_level_of_education.plot(kind='bar')"
      ],
      "metadata": {
        "id": "sDCjB3MJkDva"
      },
      "execution_count": null,
      "outputs": []
    },
    {
      "cell_type": "markdown",
      "source": [
        "3. Who scores the most on average for math, reading and writing based on\n",
        "\n",
        "\n",
        "● Gender\n",
        "\n",
        "● Test preparation course\n"
      ],
      "metadata": {
        "id": "t3HGdbyfn6qI"
      }
    },
    {
      "cell_type": "code",
      "source": [
        "df['total']=df['math score']+df['reading score']+df['writing score']\n",
        "\n",
        "#toper_based_on_gender\n",
        "males=df.loc[df['gender'] == 'female', 'total'].mean()\n",
        "females=df.loc[df['gender'] == 'male', 'total'].mean()\n",
        "print('\\ntoper_on_gender: ', 'males' if max(males,females)=='males'else 'females\\n\\n')\n",
        "\n",
        "#toper_based_on_test_preparation_course\n",
        "display(df['test preparation course'].value_counts())\n",
        "\n",
        "df.loc[df['test preparation course'] == 'none', 'total'].mean()\n",
        "df.loc[df['test preparation course'] == 'completed', 'total'].mean()\n",
        "\n",
        "df.loc[(df['test preparation course'] == 'none') & (df['gender'] == 'female'),'total'].mean()\n",
        "df.loc[(df['test preparation course'] == 'none') & (df['gender'] == 'male'),'total'].mean()\n",
        "\n",
        "avg_of_course_completed_female=df.loc[(df['test preparation course'] == 'completed') & (df['gender'] == 'female'),'total'].mean()\n",
        "avg_of_course_completed_male=df.loc[(df['test preparation course'] == 'completed') & (df['gender'] == 'male'),'total'].mean()\n",
        "print('\\ntoper_on_course completion: ', 'males' if max(avg_of_course_completed_female,avg_of_course_completed_male)=='males'else 'females\\n\\n')\n"
      ],
      "metadata": {
        "id": "jEE9f4bDoBvd"
      },
      "execution_count": null,
      "outputs": []
    },
    {
      "cell_type": "code",
      "source": [],
      "metadata": {
        "id": "7H8sVE4M3oVy"
      },
      "execution_count": null,
      "outputs": []
    },
    {
      "cell_type": "code",
      "source": [],
      "metadata": {
        "id": "5OGLbKINsNh3"
      },
      "execution_count": null,
      "outputs": []
    },
    {
      "cell_type": "markdown",
      "source": [
        "5. The management needs your help to give bonus points to the top 25% of\n",
        "students based on their math score, so how will you help the management\n",
        "to achieve this\n"
      ],
      "metadata": {
        "id": "w3fvDFJ6DEtY"
      }
    },
    {
      "cell_type": "code",
      "source": [
        "df.sort_values(by=['math score'], ascending=False).head(250)\n"
      ],
      "metadata": {
        "id": "wKhrGM9mrWhZ"
      },
      "execution_count": null,
      "outputs": []
    },
    {
      "cell_type": "code",
      "source": [],
      "metadata": {
        "id": "UQhvsn8URlPN"
      },
      "execution_count": null,
      "outputs": []
    }
  ]
}