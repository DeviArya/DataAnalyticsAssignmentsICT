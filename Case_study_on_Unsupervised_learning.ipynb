{
  "nbformat": 4,
  "nbformat_minor": 0,
  "metadata": {
    "colab": {
      "private_outputs": true,
      "provenance": [],
      "authorship_tag": "ABX9TyPPZt2O+M/Gmon1l+JM15Ev",
      "include_colab_link": true
    },
    "kernelspec": {
      "name": "python3",
      "display_name": "Python 3"
    },
    "language_info": {
      "name": "python"
    }
  },
  "cells": [
    {
      "cell_type": "markdown",
      "metadata": {
        "id": "view-in-github",
        "colab_type": "text"
      },
      "source": [
        "<a href=\"https://colab.research.google.com/github/DeviArya/DataAnalyticsAssignmentsICT/blob/main/Case_study_on_Unsupervised_learning.ipynb\" target=\"_parent\"><img src=\"https://colab.research.google.com/assets/colab-badge.svg\" alt=\"Open In Colab\"/></a>"
      ]
    },
    {
      "cell_type": "code",
      "execution_count": null,
      "metadata": {
        "id": "HkmqO7ixHWXR"
      },
      "outputs": [],
      "source": [
        "import numpy as np\n",
        "import pandas as pd\n",
        "import os\n",
        "from sklearn.preprocessing import StandardScaler\n",
        "from sklearn.decomposition import PCA\n",
        "import seaborn as sns\n",
        "import matplotlib.pyplot as plt\n",
        "from sklearn.cluster import KMeans\n",
        "import matplotlib.pyplot as plt\n",
        "from sklearn.metrics import silhouette_score\n",
        "df = pd.read_csv(\"/content/Wine_clust.csv\")\n",
        "df.head()"
      ]
    },
    {
      "cell_type": "code",
      "source": [
        "df.isnull().sum()\n",
        "data=df.copy()\n",
        "data.head()"
      ],
      "metadata": {
        "id": "bOFSm77YIDBb"
      },
      "execution_count": null,
      "outputs": []
    },
    {
      "cell_type": "code",
      "source": [
        "from sklearn.preprocessing import StandardScaler\n",
        "sc=StandardScaler()\n",
        "data[data.columns]=sc.fit_transform(data)"
      ],
      "metadata": {
        "id": "expB9lIIIFue"
      },
      "execution_count": null,
      "outputs": []
    },
    {
      "cell_type": "code",
      "source": [
        "from sklearn.decomposition import PCA\n",
        "pca = PCA(n_components=2)\n",
        "principalComponents = pca.fit_transform(data)\n",
        "principalDf = pd.DataFrame(data = principalComponents\n",
        "             , columns = ['principal component 1', 'principal component 2'])"
      ],
      "metadata": {
        "id": "9p4hF1nrIHPN"
      },
      "execution_count": null,
      "outputs": []
    },
    {
      "cell_type": "code",
      "source": [
        "import seaborn as sns\n",
        "import matplotlib.pyplot as plt\n",
        "sns.set(style=\"darkgrid\", rc={'figure.figsize':(9,6)}, font_scale=2)\n",
        "plt.scatter(x=principalComponents[:,0], y=principalComponents[:,1], color=\"black\", lw=2)\n",
        "plt.xlabel(\"Principle Component 1\")\n",
        "plt.ylabel(\"Principle Component 2\")\n",
        "plt.title(\"Strongest Principle Components\")\n",
        "plt.show()"
      ],
      "metadata": {
        "id": "ELjN0KyoIN0d"
      },
      "execution_count": null,
      "outputs": []
    },
    {
      "cell_type": "code",
      "source": [
        "#Visualizing the ELBOW method to get the optimal value of K \n",
        "from sklearn.cluster import KMeans\n",
        "wcss=[] # within cluster sum of sqaures\n",
        "for i in range(1,11):\n",
        "    kmeans = KMeans(n_clusters= i, init='k-means++', random_state=0)\n",
        "    kmeans.fit(data)\n",
        "    wcss.append(kmeans.inertia_)\n",
        "\n",
        "#inertia_ is the formula used to segregate the data points into clusters\n",
        "import matplotlib.pyplot as plt\n",
        "plt.plot(range(1,11), wcss)\n",
        "plt.title('The Elbow Method')\n",
        "plt.xlabel('no of clusters')\n",
        "plt.ylabel('wcss')\n",
        "plt.show()"
      ],
      "metadata": {
        "id": "7L31kDXEISqw"
      },
      "execution_count": null,
      "outputs": []
    },
    {
      "cell_type": "code",
      "source": [
        "kmeans= KMeans(n_clusters=3, random_state=17, init='k-means++')\n",
        "kmeans_labels= kmeans.fit_predict(data)\n",
        "centroids = kmeans.cluster_centers_\n",
        "centroids_pca = pca.transform(centroids)\n",
        "pd.Series(kmeans_labels).value_counts()"
      ],
      "metadata": {
        "id": "4jUN6I4RIWeb"
      },
      "execution_count": null,
      "outputs": []
    },
    {
      "cell_type": "code",
      "source": [
        "centroids_df = pd.DataFrame(sc.inverse_transform(centroids), columns= df.columns)\n",
        "centroids_df"
      ],
      "metadata": {
        "id": "wWUXhh7LIZBA"
      },
      "execution_count": null,
      "outputs": []
    },
    {
      "cell_type": "code",
      "source": [
        "import textwrap\n",
        "\n",
        "\n",
        "sns.set(style='darkgrid', rc={'figure.figsize':(12,8)},font_scale=2)\n",
        "plt.scatter(x=principalComponents[:,0], y=principalComponents[:,1], c=kmeans_labels, cmap=\"CMRmap\", lw=4)\n",
        "plt.scatter(x=centroids_pca[:,0], y=centroids_pca[:,1], marker=\"+\", s=500, linewidths=3, lw=4, color=\"blue\", zorder=10)\n",
        "plt.xlabel(\"Principle Component 1\")\n",
        "plt.ylabel(\"Principle Component 2\")\n",
        "plt.title(\"Clustered Data\")"
      ],
      "metadata": {
        "id": "B4cOvab3IaWd"
      },
      "execution_count": null,
      "outputs": []
    },
    {
      "cell_type": "code",
      "source": [
        "from sklearn.metrics import silhouette_score\n",
        "silhouette = silhouette_score(data, kmeans.labels_, metric='euclidean')\n",
        "silhouette"
      ],
      "metadata": {
        "id": "fsh7VQJIIdUL"
      },
      "execution_count": null,
      "outputs": []
    },
    {
      "cell_type": "code",
      "source": [
        "sns.set(style=\"darkgrid\", font_scale=1.5, rc={'figure.figsize':(20,20)})\n",
        "ax=df.hist(bins=20, color=\"green\")"
      ],
      "metadata": {
        "id": "_0qV2xnKIgj0"
      },
      "execution_count": null,
      "outputs": []
    }
  ]
}