{
  "nbformat": 4,
  "nbformat_minor": 0,
  "metadata": {
    "colab": {
      "private_outputs": true,
      "provenance": [],
      "authorship_tag": "ABX9TyMOwnIT5Cfc9f3lRTC4pZa9",
      "include_colab_link": true
    },
    "kernelspec": {
      "name": "python3",
      "display_name": "Python 3"
    },
    "language_info": {
      "name": "python"
    }
  },
  "cells": [
    {
      "cell_type": "markdown",
      "metadata": {
        "id": "view-in-github",
        "colab_type": "text"
      },
      "source": [
        "<a href=\"https://colab.research.google.com/github/DeviArya/DataAnalyticsAssignmentsICT/blob/main/Case_study_on_Regression.ipynb\" target=\"_parent\"><img src=\"https://colab.research.google.com/assets/colab-badge.svg\" alt=\"Open In Colab\"/></a>"
      ]
    },
    {
      "cell_type": "code",
      "execution_count": null,
      "metadata": {
        "id": "y3Ke3cfffLJ1"
      },
      "outputs": [],
      "source": [
        "import numpy as np\n",
        "import pandas as pd\n",
        "import matplotlib.pyplot as plt\n",
        "import seaborn as sns\n",
        "data=pd.read_csv(r\"/content/car_age_price.csv\")\n",
        "data.head()"
      ]
    },
    {
      "cell_type": "code",
      "source": [
        "data.info()"
      ],
      "metadata": {
        "id": "-c6m-OYpnq1w"
      },
      "execution_count": null,
      "outputs": []
    },
    {
      "cell_type": "code",
      "source": [
        "data.isna().sum()"
      ],
      "metadata": {
        "id": "f_G5_XzwntiR"
      },
      "execution_count": null,
      "outputs": []
    },
    {
      "cell_type": "code",
      "source": [
        "df = pd.DataFrame(data.groupby(['Year'])['Price'].mean().sort_values(ascending = False))\n",
        "df.plot.bar(figsize=(8,6))\n",
        "plt.title('Year vs Average Price')\n",
        "plt.show()"
      ],
      "metadata": {
        "id": "Y-NB81e4nw3K"
      },
      "execution_count": null,
      "outputs": []
    },
    {
      "cell_type": "code",
      "source": [
        "x= data.drop(['Price'],axis=1)\n",
        "y= data.Price\n",
        "print(x)\n",
        "print(y)"
      ],
      "metadata": {
        "id": "5oMb3JLXn0e6"
      },
      "execution_count": null,
      "outputs": []
    },
    {
      "cell_type": "code",
      "source": [
        "from sklearn.model_selection import train_test_split\n",
        "x_train,x_test,y_train,y_test = train_test_split(x,y,random_state = 42,test_size=0.2)\n",
        "from sklearn.linear_model import LinearRegression\n",
        "linear_regression = LinearRegression()\n",
        "model_linear = linear_regression.fit(x_train,y_train)\n",
        "predictions=model_linear.predict(x_test)\n",
        "y_test"
      ],
      "metadata": {
        "id": "YGuX6_-nn-SJ"
      },
      "execution_count": null,
      "outputs": []
    },
    {
      "cell_type": "code",
      "source": [
        "from sklearn.metrics import mean_squared_error,r2_score\n",
        "print('Mean Squared Error =',mean_squared_error(y_test,predictions))\n",
        "print('R Squared Value = ', r2_score(y_test,predictions))\n"
      ],
      "metadata": {
        "id": "4owClleWolSd"
      },
      "execution_count": null,
      "outputs": []
    },
    {
      "cell_type": "code",
      "source": [
        "from sklearn.linear_model import Lasso\n",
        "model_lasso = Lasso(alpha=1.0)\n",
        "model_lasso.fit(x_train, y_train)\n",
        "predictions=model_lasso.predict(x_test)"
      ],
      "metadata": {
        "id": "4y2a2DS0ooLm"
      },
      "execution_count": null,
      "outputs": []
    },
    {
      "cell_type": "code",
      "source": [
        "from sklearn.metrics import mean_squared_error,r2_score\n",
        "print('Mean Squared Error =',mean_squared_error(y_test,predictions))\n",
        "print('R Squared Value = ', r2_score(y_test,predictions))\n"
      ],
      "metadata": {
        "id": "CMZ9M3HYoIu3"
      },
      "execution_count": null,
      "outputs": []
    },
    {
      "cell_type": "code",
      "source": [
        "fig,ax = plt.subplots()\n",
        "ax.scatter(y_test,predictions)\n",
        "ax.plot(y_test,y_test, color=\"red\")\n",
        "ax.set_xlabel(\"testing target value\")\n",
        "ax.set_ylabel(\"predicting target value\")\n",
        "ax.set_title(\"predicted vs actual\")"
      ],
      "metadata": {
        "id": "Ftqc6S85oK_z"
      },
      "execution_count": null,
      "outputs": []
    },
    {
      "cell_type": "code",
      "source": [
        "from collections import OrderedDict\n",
        "newData = OrderedDict([('Year',2022)])\n",
        "newData = pd.Series(newData).values.reshape(1,-1)\n",
        "model_linear.predict(newData)"
      ],
      "metadata": {
        "id": "57MWyJsboRQ4"
      },
      "execution_count": null,
      "outputs": []
    },
    {
      "cell_type": "code",
      "source": [
        "model_lasso.predict(newData)"
      ],
      "metadata": {
        "id": "FYtO4g8NoT3l"
      },
      "execution_count": null,
      "outputs": []
    }
  ]
}