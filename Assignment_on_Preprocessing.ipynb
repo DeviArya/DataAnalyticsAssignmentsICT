{
  "nbformat": 4,
  "nbformat_minor": 0,
  "metadata": {
    "colab": {
      "private_outputs": true,
      "provenance": [],
      "authorship_tag": "ABX9TyO1NbZKi3+so8wV8PkenOqR",
      "include_colab_link": true
    },
    "kernelspec": {
      "name": "python3",
      "display_name": "Python 3"
    },
    "language_info": {
      "name": "python"
    }
  },
  "cells": [
    {
      "cell_type": "markdown",
      "metadata": {
        "id": "view-in-github",
        "colab_type": "text"
      },
      "source": [
        "<a href=\"https://colab.research.google.com/github/DeviArya/DataAnalyticsAssignmentsICT/blob/main/Assignment_on_Preprocessing.ipynb\" target=\"_parent\"><img src=\"https://colab.research.google.com/assets/colab-badge.svg\" alt=\"Open In Colab\"/></a>"
      ]
    },
    {
      "cell_type": "code",
      "execution_count": null,
      "metadata": {
        "id": "e5PMNKC0cgHT"
      },
      "outputs": [],
      "source": [
        "import pandas as pd\n",
        "import numpy as np\n",
        "import matplotlib.pyplot as plt\n",
        "import seaborn as sns\n",
        "df1 = pd.read_csv(r\"/content/titanic_dataset.csv\")\n",
        "df1.head()"
      ]
    },
    {
      "cell_type": "code",
      "source": [
        "df1.info()"
      ],
      "metadata": {
        "id": "a9SKI3t0c46n"
      },
      "execution_count": null,
      "outputs": []
    },
    {
      "cell_type": "code",
      "source": [
        "df1.isna().sum()"
      ],
      "metadata": {
        "id": "bnJPKAEqdB0o"
      },
      "execution_count": null,
      "outputs": []
    },
    {
      "cell_type": "code",
      "source": [
        "num_columns =df1[[  'Age', ]]\n",
        "num_columns.isna().sum()"
      ],
      "metadata": {
        "id": "28gxkJdSdM6E"
      },
      "execution_count": null,
      "outputs": []
    },
    {
      "cell_type": "code",
      "source": [
        "from sklearn.impute import SimpleImputer\n",
        "imputer = SimpleImputer(missing_values=np.nan, strategy='median')\n",
        "imputer = imputer.fit(num_columns)\n",
        "num_columns = imputer.transform(num_columns)\n",
        "num_columns = pd.DataFrame(num_columns,columns= [ 'Age'])\n",
        "num_columns\n",
        "num_columns.isna().sum()\n",
        "df = df1.drop([ 'Age'], axis=1)\n",
        "df = pd.concat([num_columns, df], axis =1)\n",
        "df.isna().sum()"
      ],
      "metadata": {
        "id": "PMppbhODdPIQ"
      },
      "execution_count": null,
      "outputs": []
    },
    {
      "cell_type": "code",
      "source": [
        "df = df.drop('Cabin',axis=1)\n",
        "df = df.drop('PassengerId',axis=1)\n",
        "df = df.drop('Name',axis=1)\n",
        "df = df.drop('Ticket',axis=1)"
      ],
      "metadata": {
        "id": "vxy33sFGdfw_"
      },
      "execution_count": null,
      "outputs": []
    },
    {
      "cell_type": "code",
      "source": [
        "from sklearn.preprocessing import LabelEncoder\n",
        "label_encoder = LabelEncoder()\n",
        "\n",
        "df['Sex'] = label_encoder.fit_transform(df['Sex'])\n",
        "df['Embarked'] = label_encoder.fit_transform(df['Embarked'])\n",
        "df"
      ],
      "metadata": {
        "id": "uJXevTIHdsJi"
      },
      "execution_count": null,
      "outputs": []
    },
    {
      "cell_type": "code",
      "source": [
        "y = df['Survived']\n",
        "x = df.drop(['Survived',], axis =1)"
      ],
      "metadata": {
        "id": "H44JTdgadt2G"
      },
      "execution_count": null,
      "outputs": []
    },
    {
      "cell_type": "code",
      "source": [
        "from sklearn.model_selection import train_test_split\n",
        "x_train,x_test,y_train,y_test = train_test_split(x,y,random_state=42, test_size =0.20)\n",
        "from sklearn.linear_model import LogisticRegression\n",
        "log_regression =LogisticRegression()\n",
        "\n",
        "model = log_regression.fit(x_train,y_train)\n",
        "model\n",
        "prediction = model.predict(x_test)\n",
        "from sklearn.metrics import confusion_matrix,accuracy_score,precision_score,recall_score,f1_score\n",
        "print('accuracy_score=:',accuracy_score(y_test,prediction))\n",
        "print('precision_score=:',precision_score(y_test,prediction))\n",
        "print('recall_score=:',recall_score(y_test,prediction))\n",
        "print('f1_score=:',f1_score(y_test,prediction))"
      ],
      "metadata": {
        "id": "LnpynZ2TdxOM"
      },
      "execution_count": null,
      "outputs": []
    },
    {
      "cell_type": "code",
      "source": [
        "from sklearn.neighbors import KNeighborsClassifier\n",
        "metric_k = []\n",
        "neighbors = np.arange(3,15)\n",
        "for k in neighbors:\n",
        "    classifier =KNeighborsClassifier(n_neighbors = k ,metric ='euclidean')\n",
        "    classifier.fit(x_train,y_train)\n",
        "    y_prediction = classifier.predict(x_test)\n",
        "    acc = accuracy_score(y_test, y_prediction)\n",
        "    metric_k.append(acc)\n",
        "\n",
        "metric_k"
      ],
      "metadata": {
        "id": "krQCqjrRd42e"
      },
      "execution_count": null,
      "outputs": []
    },
    {
      "cell_type": "code",
      "source": [
        "plt.plot(neighbors,metric_k,'o-')\n",
        "plt.xlabel(\"K-Value\")\n",
        "plt.xlabel(\"acc-Value\")\n",
        "plt.grid()"
      ],
      "metadata": {
        "id": "a01nVlJ9d7t8"
      },
      "execution_count": null,
      "outputs": []
    },
    {
      "cell_type": "code",
      "source": [
        "classifier =KNeighborsClassifier(n_neighbors = 13 ,metric ='euclidean')\n",
        "classifier.fit(x_train,y_train)\n",
        "y_prediction = classifier.predict(x_test)\n",
        "acc = accuracy_score(y_test, y_prediction)\n",
        "metric_k.append(acc)\n",
        "print('accuracy_score=:',accuracy_score(y_test,y_prediction))\n",
        "print('precision_score=:',precision_score(y_test,y_prediction))\n",
        "print('recall_score=:',recall_score(y_test,y_prediction))\n",
        "print('f1_score=:',f1_score(y_test,y_prediction))"
      ],
      "metadata": {
        "id": "KTvyWQtWd-xh"
      },
      "execution_count": null,
      "outputs": []
    },
    {
      "cell_type": "code",
      "source": [
        "from sklearn.svm import SVC\n",
        "svm_class = SVC(kernel='linear')\n",
        "svm_class = svm_class.fit(x_train,y_train)\n",
        "svm_class\n",
        "prediction = svm_class.predict(x_test)\n",
        "from sklearn.metrics import confusion_matrix,accuracy_score,precision_score,recall_score,f1_score\n",
        "print('accuracy_score=:',accuracy_score(y_test,prediction))"
      ],
      "metadata": {
        "id": "3TUbYHRbeAIR"
      },
      "execution_count": null,
      "outputs": []
    },
    {
      "cell_type": "code",
      "source": [
        "from sklearn.svm import SVC\n",
        "svm_class3 = SVC(kernel='rbf')\n",
        "svm_class3 = svm_class3.fit(x_train,y_train)\n",
        "svm_class3\n",
        "prediction = svm_class3.predict(x_test)\n",
        "from sklearn.metrics import confusion_matrix,accuracy_score,precision_score,recall_score,f1_score\n",
        "print('accuracy_score=:',accuracy_score(y_test,prediction))"
      ],
      "metadata": {
        "id": "jb77cq9FeDCM"
      },
      "execution_count": null,
      "outputs": []
    },
    {
      "cell_type": "code",
      "source": [
        "from sklearn.tree import DecisionTreeClassifier\n",
        "dt = DecisionTreeClassifier()\n",
        "dt =dt.fit(x_train,y_train)\n",
        "prediction = dt.predict(x_test)\n",
        "from sklearn.metrics import confusion_matrix,accuracy_score,precision_score,recall_score,f1_score\n",
        "print('accuracy_score=:',accuracy_score(y_test,prediction))"
      ],
      "metadata": {
        "id": "aUxvfNOueFyk"
      },
      "execution_count": null,
      "outputs": []
    },
    {
      "cell_type": "code",
      "source": [
        "from sklearn.ensemble import RandomForestClassifier\n",
        "dt = RandomForestClassifier()\n",
        "dt =dt.fit(x_train,y_train)\n",
        "prediction = dt.predict(x_test)\n",
        "from sklearn.metrics import confusion_matrix,accuracy_score,precision_score,recall_score,f1_score\n",
        "print('accuracy_score=:',accuracy_score(y_test,prediction))"
      ],
      "metadata": {
        "id": "7SAqlOuPeI3a"
      },
      "execution_count": null,
      "outputs": []
    },
    {
      "cell_type": "code",
      "source": [],
      "metadata": {
        "id": "rftuJXCieLiG"
      },
      "execution_count": null,
      "outputs": []
    }
  ]
}