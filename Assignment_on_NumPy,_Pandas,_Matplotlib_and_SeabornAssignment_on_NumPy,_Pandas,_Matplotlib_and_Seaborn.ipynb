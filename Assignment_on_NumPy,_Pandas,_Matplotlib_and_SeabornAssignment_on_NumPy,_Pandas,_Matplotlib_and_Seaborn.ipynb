{
  "nbformat": 4,
  "nbformat_minor": 0,
  "metadata": {
    "colab": {
      "private_outputs": true,
      "provenance": [],
      "mount_file_id": "152H-j3i3Q2WZUBU6RA2IYIRoVjyA5xLU",
      "authorship_tag": "ABX9TyPDaqPbVHzR2iKiE1J6hTIB",
      "include_colab_link": true
    },
    "kernelspec": {
      "name": "python3",
      "display_name": "Python 3"
    },
    "language_info": {
      "name": "python"
    }
  },
  "cells": [
    {
      "cell_type": "markdown",
      "metadata": {
        "id": "view-in-github",
        "colab_type": "text"
      },
      "source": [
        "<a href=\"https://colab.research.google.com/github/DeviArya/DataAnalyticsAssignmentsICT/blob/main/Assignment_on_NumPy%2C_Pandas%2C_Matplotlib_and_SeabornAssignment_on_NumPy%2C_Pandas%2C_Matplotlib_and_Seaborn.ipynb\" target=\"_parent\"><img src=\"https://colab.research.google.com/assets/colab-badge.svg\" alt=\"Open In Colab\"/></a>"
      ]
    },
    {
      "cell_type": "code",
      "execution_count": null,
      "metadata": {
        "id": "tOegF6HC999z"
      },
      "outputs": [],
      "source": [
        "import pandas as pd\n",
        "import numpy as np\n",
        "import matplotlib.pyplot as plt\n",
        "import seaborn as sns"
      ]
    },
    {
      "cell_type": "code",
      "source": [
        "df1=pd.read_excel(r\"/content/iris.xls\")\n",
        "df1.head()\n"
      ],
      "metadata": {
        "id": "sOM1PWCj-JVF"
      },
      "execution_count": null,
      "outputs": []
    },
    {
      "cell_type": "code",
      "source": [
        "pd.reset_option('max_columns')\n",
        "df1.shape"
      ],
      "metadata": {
        "id": "NxXYx5izCI8N"
      },
      "execution_count": null,
      "outputs": []
    },
    {
      "cell_type": "code",
      "source": [
        "df1"
      ],
      "metadata": {
        "id": "z68Zw1N3DszH"
      },
      "execution_count": null,
      "outputs": []
    },
    {
      "cell_type": "code",
      "source": [
        "df1.head"
      ],
      "metadata": {
        "id": "HbXDq9usLHTz"
      },
      "execution_count": null,
      "outputs": []
    },
    {
      "cell_type": "code",
      "source": [
        "df1[\"Classification\"].value_counts()"
      ],
      "metadata": {
        "id": "F6ZjiqmjLR11"
      },
      "execution_count": null,
      "outputs": []
    },
    {
      "cell_type": "code",
      "source": [
        "mean_of_data_SL = df1[\"SL\"].mean()\n",
        "mean_of_data_SW = df1[\"SW\"].mean()\n",
        "mean_of_data_PL = df1[\"PL\"].mean()\n",
        "mean_of_data_PW = df1[\"PW\"].mean()\n",
        "print(\"mean_of_data_SL: \", mean_of_data_SL,\n",
        "      \"\\nmean_of_data_SW: \", mean_of_data_SW, \n",
        "      \"\\nmean_of_data_PL: \", mean_of_data_PL, \n",
        "      \"\\nmean_of_data_PW: \", mean_of_data_SL)"
      ],
      "metadata": {
        "id": "FBQjAvMgLtS_"
      },
      "execution_count": null,
      "outputs": []
    },
    {
      "cell_type": "code",
      "source": [
        "df1.isna().sum()"
      ],
      "metadata": {
        "id": "0sAceormO0my"
      },
      "execution_count": null,
      "outputs": []
    },
    {
      "cell_type": "code",
      "source": [
        "g=sns.pairplot(df1)"
      ],
      "metadata": {
        "id": "4z8VtZbdPony"
      },
      "execution_count": null,
      "outputs": []
    },
    {
      "cell_type": "code",
      "source": [],
      "metadata": {
        "id": "PDSSa5KgQOfq"
      },
      "execution_count": null,
      "outputs": []
    }
  ]
}